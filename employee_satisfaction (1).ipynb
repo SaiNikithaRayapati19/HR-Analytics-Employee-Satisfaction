{
 "cells": [
  {
   "cell_type": "markdown",
   "metadata": {
    "id": "LdRzh9sf02gQ"
   },
   "source": [
    "# Predicting Employee Satisfaction"
   ]
  },
  {
   "cell_type": "markdown",
   "metadata": {
    "id": "R1yL5rDR0-sW"
   },
   "source": [
    "## Import Library and File"
   ]
  },
  {
   "cell_type": "code",
   "execution_count": null,
   "metadata": {
    "colab": {
     "base_uri": "https://localhost:8080/"
    },
    "executionInfo": {
     "elapsed": 1235,
     "status": "ok",
     "timestamp": 1604889263549,
     "user": {
      "displayName": "Denny Setia Dwiputra",
      "photoUrl": "https://lh3.googleusercontent.com/a-/AOh14GheQSIjmpXmrulrtnhemFKjsaAPE4APTVVVqNuX0w=s64",
      "userId": "16685659883209092994"
     },
     "user_tz": -420
    },
    "id": "VrVArxPwv36H",
    "outputId": "6387a4c4-71d2-4dc2-c426-e424ec9e9c24"
   },
   "outputs": [
    {
     "name": "stdout",
     "output_type": "stream",
     "text": [
      "Drive already mounted at /content/drive/; to attempt to forcibly remount, call drive.mount(\"/content/drive/\", force_remount=True).\n"
     ]
    }
   ],
   "source": [
    "import pandas as pd\n",
    "import matplotlib.pyplot as plt\n",
    "import numpy as np\n",
    "import seaborn as sns\n",
    "\n",
    "%matplotlib inline\n",
    "import warnings\n",
    "warnings.filterwarnings('ignore')\n",
    "from google.colab import drive\n",
    "drive.mount('/content/drive/')\n",
    "df = pd.read_csv(\"/content/drive/My Drive/Data_Science_Project/exam modul 3/satisfaction.csv\")"
   ]
  },
  {
   "cell_type": "code",
   "execution_count": null,
   "metadata": {
    "colab": {
     "base_uri": "https://localhost:8080/",
     "height": 197
    },
    "executionInfo": {
     "elapsed": 885,
     "status": "ok",
     "timestamp": 1604889270653,
     "user": {
      "displayName": "Denny Setia Dwiputra",
      "photoUrl": "https://lh3.googleusercontent.com/a-/AOh14GheQSIjmpXmrulrtnhemFKjsaAPE4APTVVVqNuX0w=s64",
      "userId": "16685659883209092994"
     },
     "user_tz": -420
    },
    "id": "6EsmW-Ag1w8k",
    "outputId": "4bd8f032-3cf3-4e48-873e-d53c826f62c2"
   },
   "outputs": [
    {
     "data": {
      "text/html": [
       "<div>\n",
       "<style scoped>\n",
       "    .dataframe tbody tr th:only-of-type {\n",
       "        vertical-align: middle;\n",
       "    }\n",
       "\n",
       "    .dataframe tbody tr th {\n",
       "        vertical-align: top;\n",
       "    }\n",
       "\n",
       "    .dataframe thead th {\n",
       "        text-align: right;\n",
       "    }\n",
       "</style>\n",
       "<table border=\"1\" class=\"dataframe\">\n",
       "  <thead>\n",
       "    <tr style=\"text-align: right;\">\n",
       "      <th></th>\n",
       "      <th>Unnamed: 0</th>\n",
       "      <th>emp_id</th>\n",
       "      <th>age</th>\n",
       "      <th>Dept</th>\n",
       "      <th>location</th>\n",
       "      <th>education</th>\n",
       "      <th>recruitment_type</th>\n",
       "      <th>job_level</th>\n",
       "      <th>rating</th>\n",
       "      <th>onsite</th>\n",
       "      <th>awards</th>\n",
       "      <th>certifications</th>\n",
       "      <th>salary</th>\n",
       "      <th>satisfied</th>\n",
       "    </tr>\n",
       "  </thead>\n",
       "  <tbody>\n",
       "    <tr>\n",
       "      <th>0</th>\n",
       "      <td>0</td>\n",
       "      <td>HR8270</td>\n",
       "      <td>28</td>\n",
       "      <td>HR</td>\n",
       "      <td>Suburb</td>\n",
       "      <td>PG</td>\n",
       "      <td>Referral</td>\n",
       "      <td>5</td>\n",
       "      <td>2</td>\n",
       "      <td>0</td>\n",
       "      <td>1</td>\n",
       "      <td>0</td>\n",
       "      <td>86750</td>\n",
       "      <td>1</td>\n",
       "    </tr>\n",
       "    <tr>\n",
       "      <th>1</th>\n",
       "      <td>1</td>\n",
       "      <td>TECH1860</td>\n",
       "      <td>50</td>\n",
       "      <td>Technology</td>\n",
       "      <td>Suburb</td>\n",
       "      <td>PG</td>\n",
       "      <td>Walk-in</td>\n",
       "      <td>3</td>\n",
       "      <td>5</td>\n",
       "      <td>1</td>\n",
       "      <td>2</td>\n",
       "      <td>1</td>\n",
       "      <td>42419</td>\n",
       "      <td>0</td>\n",
       "    </tr>\n",
       "    <tr>\n",
       "      <th>2</th>\n",
       "      <td>2</td>\n",
       "      <td>TECH6390</td>\n",
       "      <td>43</td>\n",
       "      <td>Technology</td>\n",
       "      <td>Suburb</td>\n",
       "      <td>UG</td>\n",
       "      <td>Referral</td>\n",
       "      <td>4</td>\n",
       "      <td>1</td>\n",
       "      <td>0</td>\n",
       "      <td>2</td>\n",
       "      <td>0</td>\n",
       "      <td>65715</td>\n",
       "      <td>0</td>\n",
       "    </tr>\n",
       "    <tr>\n",
       "      <th>3</th>\n",
       "      <td>3</td>\n",
       "      <td>SAL6191</td>\n",
       "      <td>44</td>\n",
       "      <td>Sales</td>\n",
       "      <td>City</td>\n",
       "      <td>PG</td>\n",
       "      <td>On-Campus</td>\n",
       "      <td>2</td>\n",
       "      <td>3</td>\n",
       "      <td>1</td>\n",
       "      <td>0</td>\n",
       "      <td>0</td>\n",
       "      <td>29805</td>\n",
       "      <td>1</td>\n",
       "    </tr>\n",
       "    <tr>\n",
       "      <th>4</th>\n",
       "      <td>4</td>\n",
       "      <td>HR6734</td>\n",
       "      <td>33</td>\n",
       "      <td>HR</td>\n",
       "      <td>City</td>\n",
       "      <td>UG</td>\n",
       "      <td>Recruitment Agency</td>\n",
       "      <td>2</td>\n",
       "      <td>1</td>\n",
       "      <td>0</td>\n",
       "      <td>5</td>\n",
       "      <td>0</td>\n",
       "      <td>29805</td>\n",
       "      <td>1</td>\n",
       "    </tr>\n",
       "  </tbody>\n",
       "</table>\n",
       "</div>"
      ],
      "text/plain": [
       "   Unnamed: 0    emp_id  age  ... certifications salary satisfied\n",
       "0           0    HR8270   28  ...              0  86750         1\n",
       "1           1  TECH1860   50  ...              1  42419         0\n",
       "2           2  TECH6390   43  ...              0  65715         0\n",
       "3           3   SAL6191   44  ...              0  29805         1\n",
       "4           4    HR6734   33  ...              0  29805         1\n",
       "\n",
       "[5 rows x 14 columns]"
      ]
     },
     "execution_count": 6,
     "metadata": {
      "tags": []
     },
     "output_type": "execute_result"
    }
   ],
   "source": [
    "df.head()"
   ]
  },
  {
   "cell_type": "markdown",
   "metadata": {
    "id": "Dl2WzhRb3RDL"
   },
   "source": [
    "## Decribe data (Checking Missing Value and  Unique varible of each columns)\n",
    ">We could see that this dataset doesn't have missing value in every columns"
   ]
  },
  {
   "cell_type": "code",
   "execution_count": null,
   "metadata": {
    "colab": {
     "base_uri": "https://localhost:8080/",
     "height": 467
    },
    "executionInfo": {
     "elapsed": 875,
     "status": "ok",
     "timestamp": 1604889393027,
     "user": {
      "displayName": "Denny Setia Dwiputra",
      "photoUrl": "https://lh3.googleusercontent.com/a-/AOh14GheQSIjmpXmrulrtnhemFKjsaAPE4APTVVVqNuX0w=s64",
      "userId": "16685659883209092994"
     },
     "user_tz": -420
    },
    "id": "V0RboXX_2tVf",
    "outputId": "ff90d88f-c57d-4450-8222-a1dafad4871a"
   },
   "outputs": [
    {
     "data": {
      "text/html": [
       "<div>\n",
       "<style scoped>\n",
       "    .dataframe tbody tr th:only-of-type {\n",
       "        vertical-align: middle;\n",
       "    }\n",
       "\n",
       "    .dataframe tbody tr th {\n",
       "        vertical-align: top;\n",
       "    }\n",
       "\n",
       "    .dataframe thead th {\n",
       "        text-align: right;\n",
       "    }\n",
       "</style>\n",
       "<table border=\"1\" class=\"dataframe\">\n",
       "  <thead>\n",
       "    <tr style=\"text-align: right;\">\n",
       "      <th></th>\n",
       "      <th>Data Feature</th>\n",
       "      <th>Data Types</th>\n",
       "      <th>Null</th>\n",
       "      <th>Null Pct</th>\n",
       "      <th>Unique</th>\n",
       "      <th>Unique Sample</th>\n",
       "    </tr>\n",
       "  </thead>\n",
       "  <tbody>\n",
       "    <tr>\n",
       "      <th>0</th>\n",
       "      <td>Unnamed: 0</td>\n",
       "      <td>int64</td>\n",
       "      <td>0</td>\n",
       "      <td>0.0</td>\n",
       "      <td>500</td>\n",
       "      <td>[241, 347]</td>\n",
       "    </tr>\n",
       "    <tr>\n",
       "      <th>1</th>\n",
       "      <td>emp_id</td>\n",
       "      <td>object</td>\n",
       "      <td>0</td>\n",
       "      <td>0.0</td>\n",
       "      <td>499</td>\n",
       "      <td>[PUR7748, TECH9838]</td>\n",
       "    </tr>\n",
       "    <tr>\n",
       "      <th>2</th>\n",
       "      <td>age</td>\n",
       "      <td>int64</td>\n",
       "      <td>0</td>\n",
       "      <td>0.0</td>\n",
       "      <td>32</td>\n",
       "      <td>[45, 41]</td>\n",
       "    </tr>\n",
       "    <tr>\n",
       "      <th>3</th>\n",
       "      <td>Dept</td>\n",
       "      <td>object</td>\n",
       "      <td>0</td>\n",
       "      <td>0.0</td>\n",
       "      <td>5</td>\n",
       "      <td>[Technology, HR]</td>\n",
       "    </tr>\n",
       "    <tr>\n",
       "      <th>4</th>\n",
       "      <td>location</td>\n",
       "      <td>object</td>\n",
       "      <td>0</td>\n",
       "      <td>0.0</td>\n",
       "      <td>2</td>\n",
       "      <td>[Suburb, City]</td>\n",
       "    </tr>\n",
       "    <tr>\n",
       "      <th>5</th>\n",
       "      <td>education</td>\n",
       "      <td>object</td>\n",
       "      <td>0</td>\n",
       "      <td>0.0</td>\n",
       "      <td>2</td>\n",
       "      <td>[PG, UG]</td>\n",
       "    </tr>\n",
       "    <tr>\n",
       "      <th>6</th>\n",
       "      <td>recruitment_type</td>\n",
       "      <td>object</td>\n",
       "      <td>0</td>\n",
       "      <td>0.0</td>\n",
       "      <td>4</td>\n",
       "      <td>[Referral, Walk-in]</td>\n",
       "    </tr>\n",
       "    <tr>\n",
       "      <th>7</th>\n",
       "      <td>job_level</td>\n",
       "      <td>int64</td>\n",
       "      <td>0</td>\n",
       "      <td>0.0</td>\n",
       "      <td>5</td>\n",
       "      <td>[1, 2]</td>\n",
       "    </tr>\n",
       "    <tr>\n",
       "      <th>8</th>\n",
       "      <td>rating</td>\n",
       "      <td>int64</td>\n",
       "      <td>0</td>\n",
       "      <td>0.0</td>\n",
       "      <td>5</td>\n",
       "      <td>[5, 1]</td>\n",
       "    </tr>\n",
       "    <tr>\n",
       "      <th>9</th>\n",
       "      <td>onsite</td>\n",
       "      <td>int64</td>\n",
       "      <td>0</td>\n",
       "      <td>0.0</td>\n",
       "      <td>2</td>\n",
       "      <td>[1, 0]</td>\n",
       "    </tr>\n",
       "    <tr>\n",
       "      <th>10</th>\n",
       "      <td>awards</td>\n",
       "      <td>int64</td>\n",
       "      <td>0</td>\n",
       "      <td>0.0</td>\n",
       "      <td>10</td>\n",
       "      <td>[8, 0]</td>\n",
       "    </tr>\n",
       "    <tr>\n",
       "      <th>11</th>\n",
       "      <td>certifications</td>\n",
       "      <td>int64</td>\n",
       "      <td>0</td>\n",
       "      <td>0.0</td>\n",
       "      <td>2</td>\n",
       "      <td>[1, 0]</td>\n",
       "    </tr>\n",
       "    <tr>\n",
       "      <th>12</th>\n",
       "      <td>salary</td>\n",
       "      <td>int64</td>\n",
       "      <td>0</td>\n",
       "      <td>0.0</td>\n",
       "      <td>5</td>\n",
       "      <td>[42419, 65715]</td>\n",
       "    </tr>\n",
       "    <tr>\n",
       "      <th>13</th>\n",
       "      <td>satisfied</td>\n",
       "      <td>int64</td>\n",
       "      <td>0</td>\n",
       "      <td>0.0</td>\n",
       "      <td>2</td>\n",
       "      <td>[0, 1]</td>\n",
       "    </tr>\n",
       "  </tbody>\n",
       "</table>\n",
       "</div>"
      ],
      "text/plain": [
       "        Data Feature Data Types  Null  Null Pct  Unique        Unique Sample\n",
       "0         Unnamed: 0      int64     0       0.0     500           [241, 347]\n",
       "1             emp_id     object     0       0.0     499  [PUR7748, TECH9838]\n",
       "2                age      int64     0       0.0      32             [45, 41]\n",
       "3               Dept     object     0       0.0       5     [Technology, HR]\n",
       "4           location     object     0       0.0       2       [Suburb, City]\n",
       "5          education     object     0       0.0       2             [PG, UG]\n",
       "6   recruitment_type     object     0       0.0       4  [Referral, Walk-in]\n",
       "7          job_level      int64     0       0.0       5               [1, 2]\n",
       "8             rating      int64     0       0.0       5               [5, 1]\n",
       "9             onsite      int64     0       0.0       2               [1, 0]\n",
       "10            awards      int64     0       0.0      10               [8, 0]\n",
       "11    certifications      int64     0       0.0       2               [1, 0]\n",
       "12            salary      int64     0       0.0       5       [42419, 65715]\n",
       "13         satisfied      int64     0       0.0       2               [0, 1]"
      ]
     },
     "execution_count": 9,
     "metadata": {
      "tags": []
     },
     "output_type": "execute_result"
    }
   ],
   "source": [
    "satisfactionDesc = []\n",
    "\n",
    "for i in df.columns:\n",
    "    satisfactionDesc.append([\n",
    "        i,\n",
    "        df[i].dtypes,\n",
    "        df[i].isna().sum(),\n",
    "        (((df[i]).isna().sum())/len(df)*100).round(2),\n",
    "        df[i].nunique(),\n",
    "        df[i].drop_duplicates().sample(2).values\n",
    "    ])\n",
    "\n",
    "pd.DataFrame(data = satisfactionDesc, columns = [\n",
    "    'Data Feature',\n",
    "    'Data Types',\n",
    "    'Null',\n",
    "    'Null Pct',\n",
    "    'Unique',\n",
    "    'Unique Sample'\n",
    "])"
   ]
  },
  {
   "cell_type": "markdown",
   "metadata": {
    "id": "yMAEoYon3v0E"
   },
   "source": [
    "## Background and goals from this dataset\n",
    "\n",
    "**Background Problem**\n",
    ">In every single company we know that employees is the biggest asset that company ever had itself, despite the company had an advance , smartest technology , and many more asset that they ever had, but all of they had is useless if they dont have a good, smart, talented employees. In this Exploratory Data Analysis, I have a several question about employees satisfaction.  \n",
    "1.Did employees level have a big effect of they **satisfaction**?\n",
    "2. Did employees last rating still have a big effect of they next **satisfaction**? ( example : if one employee gives **bad result**, then the next result will be **good**? or if one employee gives **bad** result in the past then they have a **certification**, **reward** and the **salary** increases could give **good** result in the next ?  \n",
    "3.Was the **location** of employees have an effect with they **satisfaction**?  \n",
    "4.Was the **age** of employees could give effect with they **satisfaction**?  \n",
    "\n",
    "**Goals**\n",
    "1. Could we predict who is the employee is not **satisfied** based on this dataset?"
   ]
  },
  {
   "cell_type": "markdown",
   "metadata": {
    "id": "u9bfY7Cq-l-4"
   },
   "source": [
    "## Exploratory Data Analysis"
   ]
  },
  {
   "cell_type": "markdown",
   "metadata": {
    "id": "NifRRY2z-3-_"
   },
   "source": [
    "### Create Age Classification"
   ]
  },
  {
   "cell_type": "code",
   "execution_count": null,
   "metadata": {
    "colab": {
     "base_uri": "https://localhost:8080/"
    },
    "executionInfo": {
     "elapsed": 846,
     "status": "ok",
     "timestamp": 1604891677105,
     "user": {
      "displayName": "Denny Setia Dwiputra",
      "photoUrl": "https://lh3.googleusercontent.com/a-/AOh14GheQSIjmpXmrulrtnhemFKjsaAPE4APTVVVqNuX0w=s64",
      "userId": "16685659883209092994"
     },
     "user_tz": -420
    },
    "id": "YNm-_sjl_HQ1",
    "outputId": "ef59eeeb-8c1e-45ea-9ea6-d08094d90bfc"
   },
   "outputs": [
    {
     "name": "stdout",
     "output_type": "stream",
     "text": [
      "The Lowest Age of this dataset :23\n",
      "The Highest Age of this dataset :54\n"
     ]
    }
   ],
   "source": [
    "age_min = df['age'].min() ### the lowest age of this dataset\n",
    "age_max = df['age'].max()\n",
    "print(f'The Lowest Age of this dataset :{age_min}')\n",
    "print(f'The Highest Age of this dataset :{age_max}')"
   ]
  },
  {
   "cell_type": "markdown",
   "metadata": {
    "id": "OiUjaKszCjKt"
   },
   "source": [
    "### Age binning\n",
    "> We have to give an Age classification based on **Retirement Day**.(56) \n",
    "1. More than Equal 30 Years  \n",
    "2. More than Equal 20 Years  \n",
    "3. More than Equal 10 Years\n",
    "4. Less than Equal 10 years"
   ]
  },
  {
   "cell_type": "code",
   "execution_count": null,
   "metadata": {
    "id": "qdTt_eiz_6wb"
   },
   "outputs": [],
   "source": [
    "age_bin = [0,26,36,46,54]\n",
    "labels = ['More than Equal 30 Years','More than Equal 20 Years','More than Equal 10 Years', 'Less Than Equal 10 years']\n",
    "df['retirement'] = pd.cut(df['age'],bins =age_bin,labels = labels )"
   ]
  },
  {
   "cell_type": "code",
   "execution_count": null,
   "metadata": {
    "colab": {
     "base_uri": "https://localhost:8080/",
     "height": 197
    },
    "executionInfo": {
     "elapsed": 916,
     "status": "ok",
     "timestamp": 1604894218388,
     "user": {
      "displayName": "Denny Setia Dwiputra",
      "photoUrl": "https://lh3.googleusercontent.com/a-/AOh14GheQSIjmpXmrulrtnhemFKjsaAPE4APTVVVqNuX0w=s64",
      "userId": "16685659883209092994"
     },
     "user_tz": -420
    },
    "id": "09agcDcfGLMj",
    "outputId": "4ddf3176-a816-4bec-c347-7a55b951b76e"
   },
   "outputs": [
    {
     "data": {
      "text/html": [
       "<div>\n",
       "<style scoped>\n",
       "    .dataframe tbody tr th:only-of-type {\n",
       "        vertical-align: middle;\n",
       "    }\n",
       "\n",
       "    .dataframe tbody tr th {\n",
       "        vertical-align: top;\n",
       "    }\n",
       "\n",
       "    .dataframe thead th {\n",
       "        text-align: right;\n",
       "    }\n",
       "</style>\n",
       "<table border=\"1\" class=\"dataframe\">\n",
       "  <thead>\n",
       "    <tr style=\"text-align: right;\">\n",
       "      <th></th>\n",
       "      <th>Unnamed: 0</th>\n",
       "      <th>emp_id</th>\n",
       "      <th>age</th>\n",
       "      <th>Dept</th>\n",
       "      <th>location</th>\n",
       "      <th>education</th>\n",
       "      <th>recruitment_type</th>\n",
       "      <th>job_level</th>\n",
       "      <th>rating</th>\n",
       "      <th>onsite</th>\n",
       "      <th>awards</th>\n",
       "      <th>certifications</th>\n",
       "      <th>salary</th>\n",
       "      <th>satisfied</th>\n",
       "      <th>retirement</th>\n",
       "    </tr>\n",
       "  </thead>\n",
       "  <tbody>\n",
       "    <tr>\n",
       "      <th>0</th>\n",
       "      <td>0</td>\n",
       "      <td>HR8270</td>\n",
       "      <td>28</td>\n",
       "      <td>HR</td>\n",
       "      <td>Suburb</td>\n",
       "      <td>PG</td>\n",
       "      <td>Referral</td>\n",
       "      <td>5</td>\n",
       "      <td>2</td>\n",
       "      <td>0</td>\n",
       "      <td>1</td>\n",
       "      <td>0</td>\n",
       "      <td>86750</td>\n",
       "      <td>1</td>\n",
       "      <td>More than Equal 20 Years</td>\n",
       "    </tr>\n",
       "    <tr>\n",
       "      <th>1</th>\n",
       "      <td>1</td>\n",
       "      <td>TECH1860</td>\n",
       "      <td>50</td>\n",
       "      <td>Technology</td>\n",
       "      <td>Suburb</td>\n",
       "      <td>PG</td>\n",
       "      <td>Walk-in</td>\n",
       "      <td>3</td>\n",
       "      <td>5</td>\n",
       "      <td>1</td>\n",
       "      <td>2</td>\n",
       "      <td>1</td>\n",
       "      <td>42419</td>\n",
       "      <td>0</td>\n",
       "      <td>Less Than Equal 10 years</td>\n",
       "    </tr>\n",
       "    <tr>\n",
       "      <th>2</th>\n",
       "      <td>2</td>\n",
       "      <td>TECH6390</td>\n",
       "      <td>43</td>\n",
       "      <td>Technology</td>\n",
       "      <td>Suburb</td>\n",
       "      <td>UG</td>\n",
       "      <td>Referral</td>\n",
       "      <td>4</td>\n",
       "      <td>1</td>\n",
       "      <td>0</td>\n",
       "      <td>2</td>\n",
       "      <td>0</td>\n",
       "      <td>65715</td>\n",
       "      <td>0</td>\n",
       "      <td>More than Equal 10 Years</td>\n",
       "    </tr>\n",
       "    <tr>\n",
       "      <th>3</th>\n",
       "      <td>3</td>\n",
       "      <td>SAL6191</td>\n",
       "      <td>44</td>\n",
       "      <td>Sales</td>\n",
       "      <td>City</td>\n",
       "      <td>PG</td>\n",
       "      <td>On-Campus</td>\n",
       "      <td>2</td>\n",
       "      <td>3</td>\n",
       "      <td>1</td>\n",
       "      <td>0</td>\n",
       "      <td>0</td>\n",
       "      <td>29805</td>\n",
       "      <td>1</td>\n",
       "      <td>More than Equal 10 Years</td>\n",
       "    </tr>\n",
       "    <tr>\n",
       "      <th>4</th>\n",
       "      <td>4</td>\n",
       "      <td>HR6734</td>\n",
       "      <td>33</td>\n",
       "      <td>HR</td>\n",
       "      <td>City</td>\n",
       "      <td>UG</td>\n",
       "      <td>Recruitment Agency</td>\n",
       "      <td>2</td>\n",
       "      <td>1</td>\n",
       "      <td>0</td>\n",
       "      <td>5</td>\n",
       "      <td>0</td>\n",
       "      <td>29805</td>\n",
       "      <td>1</td>\n",
       "      <td>More than Equal 20 Years</td>\n",
       "    </tr>\n",
       "  </tbody>\n",
       "</table>\n",
       "</div>"
      ],
      "text/plain": [
       "   Unnamed: 0    emp_id  age  ... salary satisfied                retirement\n",
       "0           0    HR8270   28  ...  86750         1  More than Equal 20 Years\n",
       "1           1  TECH1860   50  ...  42419         0  Less Than Equal 10 years\n",
       "2           2  TECH6390   43  ...  65715         0  More than Equal 10 Years\n",
       "3           3   SAL6191   44  ...  29805         1  More than Equal 10 Years\n",
       "4           4    HR6734   33  ...  29805         1  More than Equal 20 Years\n",
       "\n",
       "[5 rows x 15 columns]"
      ]
     },
     "execution_count": 36,
     "metadata": {
      "tags": []
     },
     "output_type": "execute_result"
    }
   ],
   "source": [
    "df.head()"
   ]
  },
  {
   "cell_type": "markdown",
   "metadata": {
    "id": "9vm1G3zFNAv5"
   },
   "source": [
    "As we See Below, that there is no **outLiers** in this Column (Age)"
   ]
  },
  {
   "cell_type": "code",
   "execution_count": null,
   "metadata": {
    "colab": {
     "base_uri": "https://localhost:8080/",
     "height": 284
    },
    "executionInfo": {
     "elapsed": 1124,
     "status": "ok",
     "timestamp": 1604895102590,
     "user": {
      "displayName": "Denny Setia Dwiputra",
      "photoUrl": "https://lh3.googleusercontent.com/a-/AOh14GheQSIjmpXmrulrtnhemFKjsaAPE4APTVVVqNuX0w=s64",
      "userId": "16685659883209092994"
     },
     "user_tz": -420
    },
    "id": "93XF9h8YM4ys",
    "outputId": "8b34790f-3f4e-4959-8261-a253763f9709"
   },
   "outputs": [
    {
     "data": {
      "image/png": "[encoded data removed]",
      "text/plain": [
       "<Figure size 432x288 with 1 Axes>"
      ]
     },
     "metadata": {
      "tags": []
     },
     "output_type": "display_data"
    }
   ],
   "source": [
    "sns.set_theme(style=\"whitegrid\")\n",
    "ax = sns.boxplot(x=df[\"age\"])"
   ]
  },
  {
   "cell_type": "markdown",
   "metadata": {
    "id": "3WTrJM9-GlUD"
   },
   "source": [
    ">We got insight that employees who had Retirement days remaining **More than 30 years** is the **lowest** rates of satisfied.  \n",
    "The **highest** employee was **satisfied** is employees who had Retirement days remaining **more than Equal 20 Years**  \n",
    "Employees who had Retirement days(56) remaining **More than Equal 30 Years** have a **vast** differences with another **Age classification**"
   ]
  },
  {
   "cell_type": "code",
   "execution_count": null,
   "metadata": {
    "colab": {
     "base_uri": "https://localhost:8080/",
     "height": 197
    },
    "executionInfo": {
     "elapsed": 884,
     "status": "ok",
     "timestamp": 1604895480497,
     "user": {
      "displayName": "Denny Setia Dwiputra",
      "photoUrl": "https://lh3.googleusercontent.com/a-/AOh14GheQSIjmpXmrulrtnhemFKjsaAPE4APTVVVqNuX0w=s64",
      "userId": "16685659883209092994"
     },
     "user_tz": -420
    },
    "id": "iPiPz7-KE44_",
    "outputId": "e4bc2aaa-738c-4176-b6c7-0bf2fe00f4e7"
   },
   "outputs": [
    {
     "data": {
      "text/html": [
       "<div>\n",
       "<style scoped>\n",
       "    .dataframe tbody tr th:only-of-type {\n",
       "        vertical-align: middle;\n",
       "    }\n",
       "\n",
       "    .dataframe tbody tr th {\n",
       "        vertical-align: top;\n",
       "    }\n",
       "\n",
       "    .dataframe thead th {\n",
       "        text-align: right;\n",
       "    }\n",
       "</style>\n",
       "<table border=\"1\" class=\"dataframe\">\n",
       "  <thead>\n",
       "    <tr style=\"text-align: right;\">\n",
       "      <th></th>\n",
       "      <th>satisfied</th>\n",
       "    </tr>\n",
       "    <tr>\n",
       "      <th>retirement</th>\n",
       "      <th></th>\n",
       "    </tr>\n",
       "  </thead>\n",
       "  <tbody>\n",
       "    <tr>\n",
       "      <th>More than Equal 20 Years</th>\n",
       "      <td>57.14</td>\n",
       "    </tr>\n",
       "    <tr>\n",
       "      <th>Less Than Equal 10 years</th>\n",
       "      <td>52.38</td>\n",
       "    </tr>\n",
       "    <tr>\n",
       "      <th>More than Equal 10 Years</th>\n",
       "      <td>51.90</td>\n",
       "    </tr>\n",
       "    <tr>\n",
       "      <th>More than Equal 30 Years</th>\n",
       "      <td>44.93</td>\n",
       "    </tr>\n",
       "  </tbody>\n",
       "</table>\n",
       "</div>"
      ],
      "text/plain": [
       "                          satisfied\n",
       "retirement                         \n",
       "More than Equal 20 Years      57.14\n",
       "Less Than Equal 10 years      52.38\n",
       "More than Equal 10 Years      51.90\n",
       "More than Equal 30 Years      44.93"
      ]
     },
     "execution_count": 49,
     "metadata": {
      "tags": []
     },
     "output_type": "execute_result"
    }
   ],
   "source": [
    "age = ((df[['retirement','satisfied']].groupby(['retirement']).mean())*100).round(2).sort_values(by='satisfied', ascending=False)\n",
    "age"
   ]
  },
  {
   "cell_type": "code",
   "execution_count": null,
   "metadata": {
    "colab": {
     "base_uri": "https://localhost:8080/",
     "height": 501
    },
    "executionInfo": {
     "elapsed": 1088,
     "status": "ok",
     "timestamp": 1604895484408,
     "user": {
      "displayName": "Denny Setia Dwiputra",
      "photoUrl": "https://lh3.googleusercontent.com/a-/AOh14GheQSIjmpXmrulrtnhemFKjsaAPE4APTVVVqNuX0w=s64",
      "userId": "16685659883209092994"
     },
     "user_tz": -420
    },
    "id": "xCSgRIOxE5tH",
    "outputId": "4ac6ee59-9505-4cb5-aa53-a056ecd8b844"
   },
   "outputs": [
    {
     "data": {
      "text/plain": [
       "<BarContainer object of 4 artists>"
      ]
     },
     "execution_count": 50,
     "metadata": {
      "tags": []
     },
     "output_type": "execute_result"
    },
    {
     "data": {
      "image/png": "[encoded data removed]",
      "text/plain": [
       "<Figure size 1080x576 with 1 Axes>"
      ]
     },
     "metadata": {
      "tags": []
     },
     "output_type": "display_data"
    }
   ],
   "source": [
    "plt.figure(figsize=(15,8))\n",
    "plt.bar( age.index.values,age['satisfied'])"
   ]
  },
  {
   "cell_type": "markdown",
   "metadata": {
    "id": "WtPXuAG_MkvM"
   },
   "source": [
    "### Department"
   ]
  },
  {
   "cell_type": "code",
   "execution_count": null,
   "metadata": {
    "colab": {
     "base_uri": "https://localhost:8080/",
     "height": 227
    },
    "executionInfo": {
     "elapsed": 2639,
     "status": "ok",
     "timestamp": 1604895509625,
     "user": {
      "displayName": "Denny Setia Dwiputra",
      "photoUrl": "https://lh3.googleusercontent.com/a-/AOh14GheQSIjmpXmrulrtnhemFKjsaAPE4APTVVVqNuX0w=s64",
      "userId": "16685659883209092994"
     },
     "user_tz": -420
    },
    "id": "-DMw3Yt6MrMu",
    "outputId": "bf0c058c-52b2-4220-cdc2-824b913d08bf"
   },
   "outputs": [
    {
     "data": {
      "text/html": [
       "<div>\n",
       "<style scoped>\n",
       "    .dataframe tbody tr th:only-of-type {\n",
       "        vertical-align: middle;\n",
       "    }\n",
       "\n",
       "    .dataframe tbody tr th {\n",
       "        vertical-align: top;\n",
       "    }\n",
       "\n",
       "    .dataframe thead th {\n",
       "        text-align: right;\n",
       "    }\n",
       "</style>\n",
       "<table border=\"1\" class=\"dataframe\">\n",
       "  <thead>\n",
       "    <tr style=\"text-align: right;\">\n",
       "      <th></th>\n",
       "      <th>satisfied</th>\n",
       "    </tr>\n",
       "    <tr>\n",
       "      <th>Dept</th>\n",
       "      <th></th>\n",
       "    </tr>\n",
       "  </thead>\n",
       "  <tbody>\n",
       "    <tr>\n",
       "      <th>Purchasing</th>\n",
       "      <td>56.88</td>\n",
       "    </tr>\n",
       "    <tr>\n",
       "      <th>Sales</th>\n",
       "      <td>55.43</td>\n",
       "    </tr>\n",
       "    <tr>\n",
       "      <th>Technology</th>\n",
       "      <td>54.08</td>\n",
       "    </tr>\n",
       "    <tr>\n",
       "      <th>HR</th>\n",
       "      <td>50.00</td>\n",
       "    </tr>\n",
       "    <tr>\n",
       "      <th>Marketing</th>\n",
       "      <td>46.32</td>\n",
       "    </tr>\n",
       "  </tbody>\n",
       "</table>\n",
       "</div>"
      ],
      "text/plain": [
       "            satisfied\n",
       "Dept                 \n",
       "Purchasing      56.88\n",
       "Sales           55.43\n",
       "Technology      54.08\n",
       "HR              50.00\n",
       "Marketing       46.32"
      ]
     },
     "execution_count": 52,
     "metadata": {
      "tags": []
     },
     "output_type": "execute_result"
    }
   ],
   "source": [
    "dept = ((df[['Dept','satisfied']].groupby(['Dept']).mean())*100).round(2).sort_values(by='satisfied', ascending=False)\n",
    "dept"
   ]
  },
  {
   "cell_type": "markdown",
   "metadata": {
    "id": "olZKJuG5Okvv"
   },
   "source": [
    "We got the insight :  \n",
    "1. The **lowest** score of satisfied was from **Departement Marketing**  \n",
    "2. The **Highest** score of satisfied was from **Departemen Purchasing**"
   ]
  },
  {
   "cell_type": "code",
   "execution_count": null,
   "metadata": {
    "colab": {
     "base_uri": "https://localhost:8080/",
     "height": 501
    },
    "executionInfo": {
     "elapsed": 2249,
     "status": "ok",
     "timestamp": 1604895513733,
     "user": {
      "displayName": "Denny Setia Dwiputra",
      "photoUrl": "https://lh3.googleusercontent.com/a-/AOh14GheQSIjmpXmrulrtnhemFKjsaAPE4APTVVVqNuX0w=s64",
      "userId": "16685659883209092994"
     },
     "user_tz": -420
    },
    "id": "JcNYR7TWMvb7",
    "outputId": "088f9476-0437-4167-cb28-b2770427a2e4"
   },
   "outputs": [
    {
     "data": {
      "text/plain": [
       "<BarContainer object of 5 artists>"
      ]
     },
     "execution_count": 53,
     "metadata": {
      "tags": []
     },
     "output_type": "execute_result"
    },
    {
     "data": {
      "image/png": "[encoded data removed]",
      "text/plain": [
       "<Figure size 1080x576 with 1 Axes>"
      ]
     },
     "metadata": {
      "tags": []
     },
     "output_type": "display_data"
    }
   ],
   "source": [
    "plt.figure(figsize=(15,8))\n",
    "plt.bar( dept.index.values,dept['satisfied'])"
   ]
  },
  {
   "cell_type": "markdown",
   "metadata": {
    "id": "348TaeFUPOuq"
   },
   "source": [
    "### Work Location"
   ]
  },
  {
   "cell_type": "code",
   "execution_count": null,
   "metadata": {
    "colab": {
     "base_uri": "https://localhost:8080/",
     "height": 137
    },
    "executionInfo": {
     "elapsed": 910,
     "status": "ok",
     "timestamp": 1604895737222,
     "user": {
      "displayName": "Denny Setia Dwiputra",
      "photoUrl": "https://lh3.googleusercontent.com/a-/AOh14GheQSIjmpXmrulrtnhemFKjsaAPE4APTVVVqNuX0w=s64",
      "userId": "16685659883209092994"
     },
     "user_tz": -420
    },
    "id": "TuYDK16POhM8",
    "outputId": "fe9c4397-4298-4948-94e7-f511efbb70bd"
   },
   "outputs": [
    {
     "data": {
      "text/html": [
       "<div>\n",
       "<style scoped>\n",
       "    .dataframe tbody tr th:only-of-type {\n",
       "        vertical-align: middle;\n",
       "    }\n",
       "\n",
       "    .dataframe tbody tr th {\n",
       "        vertical-align: top;\n",
       "    }\n",
       "\n",
       "    .dataframe thead th {\n",
       "        text-align: right;\n",
       "    }\n",
       "</style>\n",
       "<table border=\"1\" class=\"dataframe\">\n",
       "  <thead>\n",
       "    <tr style=\"text-align: right;\">\n",
       "      <th></th>\n",
       "      <th>satisfied</th>\n",
       "    </tr>\n",
       "    <tr>\n",
       "      <th>location</th>\n",
       "      <th></th>\n",
       "    </tr>\n",
       "  </thead>\n",
       "  <tbody>\n",
       "    <tr>\n",
       "      <th>City</th>\n",
       "      <td>54.05</td>\n",
       "    </tr>\n",
       "    <tr>\n",
       "      <th>Suburb</th>\n",
       "      <td>51.04</td>\n",
       "    </tr>\n",
       "  </tbody>\n",
       "</table>\n",
       "</div>"
      ],
      "text/plain": [
       "          satisfied\n",
       "location           \n",
       "City          54.05\n",
       "Suburb        51.04"
      ]
     },
     "execution_count": 54,
     "metadata": {
      "tags": []
     },
     "output_type": "execute_result"
    }
   ],
   "source": [
    "loc = ((df[['location','satisfied']].groupby(['location']).mean())*100).round(2).sort_values(by='satisfied', ascending=False)\n",
    "loc"
   ]
  },
  {
   "cell_type": "markdown",
   "metadata": {
    "id": "SWLQRSUhPl4Z"
   },
   "source": [
    "We got the insight :\n",
    "1. Between Employees who worked in the **City** and **Suburb**, there is no significant differences."
   ]
  },
  {
   "cell_type": "code",
   "execution_count": null,
   "metadata": {
    "colab": {
     "base_uri": "https://localhost:8080/",
     "height": 447
    },
    "executionInfo": {
     "elapsed": 1019,
     "status": "ok",
     "timestamp": 1604895777987,
     "user": {
      "displayName": "Denny Setia Dwiputra",
      "photoUrl": "https://lh3.googleusercontent.com/a-/AOh14GheQSIjmpXmrulrtnhemFKjsaAPE4APTVVVqNuX0w=s64",
      "userId": "16685659883209092994"
     },
     "user_tz": -420
    },
    "id": "9WW9NYDMPc8f",
    "outputId": "d72d2409-52f4-45a5-e449-686e9e188487"
   },
   "outputs": [
    {
     "data": {
      "text/plain": [
       "<BarContainer object of 2 artists>"
      ]
     },
     "execution_count": 57,
     "metadata": {
      "tags": []
     },
     "output_type": "execute_result"
    },
    {
     "data": {
      "image/png": "[encoded data removed]",
      "text/plain": [
       "<Figure size 360x504 with 1 Axes>"
      ]
     },
     "metadata": {
      "tags": []
     },
     "output_type": "display_data"
    }
   ],
   "source": [
    "plt.figure(figsize=(5,7))\n",
    "plt.bar( loc.index.values,loc['satisfied'])"
   ]
  },
  {
   "cell_type": "markdown",
   "metadata": {
    "id": "TW8a7OkwQI1k"
   },
   "source": [
    "### Education\n",
    "> **PG** : Post Graduated  \n",
    "**UG** : Under Graduated\n",
    "\n",
    "Both of theese **Education degree** also dont have a vast differences with the satisfaction."
   ]
  },
  {
   "cell_type": "code",
   "execution_count": null,
   "metadata": {
    "colab": {
     "base_uri": "https://localhost:8080/",
     "height": 137
    },
    "executionInfo": {
     "elapsed": 848,
     "status": "ok",
     "timestamp": 1604896030851,
     "user": {
      "displayName": "Denny Setia Dwiputra",
      "photoUrl": "https://lh3.googleusercontent.com/a-/AOh14GheQSIjmpXmrulrtnhemFKjsaAPE4APTVVVqNuX0w=s64",
      "userId": "16685659883209092994"
     },
     "user_tz": -420
    },
    "id": "2XMso2CVQTyp",
    "outputId": "d49f2252-d120-4a72-bdd2-880a41ea3343"
   },
   "outputs": [
    {
     "data": {
      "text/html": [
       "<div>\n",
       "<style scoped>\n",
       "    .dataframe tbody tr th:only-of-type {\n",
       "        vertical-align: middle;\n",
       "    }\n",
       "\n",
       "    .dataframe tbody tr th {\n",
       "        vertical-align: top;\n",
       "    }\n",
       "\n",
       "    .dataframe thead th {\n",
       "        text-align: right;\n",
       "    }\n",
       "</style>\n",
       "<table border=\"1\" class=\"dataframe\">\n",
       "  <thead>\n",
       "    <tr style=\"text-align: right;\">\n",
       "      <th></th>\n",
       "      <th>satisfied</th>\n",
       "    </tr>\n",
       "    <tr>\n",
       "      <th>education</th>\n",
       "      <th></th>\n",
       "    </tr>\n",
       "  </thead>\n",
       "  <tbody>\n",
       "    <tr>\n",
       "      <th>PG</th>\n",
       "      <td>53.94</td>\n",
       "    </tr>\n",
       "    <tr>\n",
       "      <th>UG</th>\n",
       "      <td>51.22</td>\n",
       "    </tr>\n",
       "  </tbody>\n",
       "</table>\n",
       "</div>"
      ],
      "text/plain": [
       "           satisfied\n",
       "education           \n",
       "PG             53.94\n",
       "UG             51.22"
      ]
     },
     "execution_count": 59,
     "metadata": {
      "tags": []
     },
     "output_type": "execute_result"
    }
   ],
   "source": [
    "ed = ((df[['education','satisfied']].groupby(['education']).mean())*100).round(2).sort_values(by='satisfied', ascending=False)\n",
    "ed"
   ]
  },
  {
   "cell_type": "code",
   "execution_count": null,
   "metadata": {
    "colab": {
     "base_uri": "https://localhost:8080/",
     "height": 447
    },
    "executionInfo": {
     "elapsed": 2322,
     "status": "ok",
     "timestamp": 1604896063296,
     "user": {
      "displayName": "Denny Setia Dwiputra",
      "photoUrl": "https://lh3.googleusercontent.com/a-/AOh14GheQSIjmpXmrulrtnhemFKjsaAPE4APTVVVqNuX0w=s64",
      "userId": "16685659883209092994"
     },
     "user_tz": -420
    },
    "id": "ct8qFT46Qfy_",
    "outputId": "867e5537-5d17-4f8a-9642-113bcee59739"
   },
   "outputs": [
    {
     "data": {
      "text/plain": [
       "<BarContainer object of 2 artists>"
      ]
     },
     "execution_count": 60,
     "metadata": {
      "tags": []
     },
     "output_type": "execute_result"
    },
    {
     "data": {
      "image/png": "[encoded data removed]",
      "text/plain": [
       "<Figure size 360x504 with 1 Axes>"
      ]
     },
     "metadata": {
      "tags": []
     },
     "output_type": "display_data"
    }
   ],
   "source": [
    "plt.figure(figsize=(5,7))\n",
    "plt.bar( ed.index.values,ed['satisfied'])"
   ]
  },
  {
   "cell_type": "markdown",
   "metadata": {
    "id": "ZBps4IBhRT3j"
   },
   "source": [
    "### Recruitment type\n",
    "> I assumed that **Employee** was recruited from **Reffral** Have a** high rates** of **satisfied**, but we could see that data said there is no significant differences with **recruitment type**."
   ]
  },
  {
   "cell_type": "code",
   "execution_count": null,
   "metadata": {
    "colab": {
     "base_uri": "https://localhost:8080/",
     "height": 197
    },
    "executionInfo": {
     "elapsed": 839,
     "status": "ok",
     "timestamp": 1604896294312,
     "user": {
      "displayName": "Denny Setia Dwiputra",
      "photoUrl": "https://lh3.googleusercontent.com/a-/AOh14GheQSIjmpXmrulrtnhemFKjsaAPE4APTVVVqNuX0w=s64",
      "userId": "16685659883209092994"
     },
     "user_tz": -420
    },
    "id": "W1RLb9yFRZ0E",
    "outputId": "3cd12180-1a50-4b82-8813-03692b109351"
   },
   "outputs": [
    {
     "data": {
      "text/html": [
       "<div>\n",
       "<style scoped>\n",
       "    .dataframe tbody tr th:only-of-type {\n",
       "        vertical-align: middle;\n",
       "    }\n",
       "\n",
       "    .dataframe tbody tr th {\n",
       "        vertical-align: top;\n",
       "    }\n",
       "\n",
       "    .dataframe thead th {\n",
       "        text-align: right;\n",
       "    }\n",
       "</style>\n",
       "<table border=\"1\" class=\"dataframe\">\n",
       "  <thead>\n",
       "    <tr style=\"text-align: right;\">\n",
       "      <th></th>\n",
       "      <th>satisfied</th>\n",
       "    </tr>\n",
       "    <tr>\n",
       "      <th>recruitment_type</th>\n",
       "      <th></th>\n",
       "    </tr>\n",
       "  </thead>\n",
       "  <tbody>\n",
       "    <tr>\n",
       "      <th>Recruitment Agency</th>\n",
       "      <td>54.63</td>\n",
       "    </tr>\n",
       "    <tr>\n",
       "      <th>On-Campus</th>\n",
       "      <td>54.14</td>\n",
       "    </tr>\n",
       "    <tr>\n",
       "      <th>Referral</th>\n",
       "      <td>51.91</td>\n",
       "    </tr>\n",
       "    <tr>\n",
       "      <th>Walk-in</th>\n",
       "      <td>50.00</td>\n",
       "    </tr>\n",
       "  </tbody>\n",
       "</table>\n",
       "</div>"
      ],
      "text/plain": [
       "                    satisfied\n",
       "recruitment_type             \n",
       "Recruitment Agency      54.63\n",
       "On-Campus               54.14\n",
       "Referral                51.91\n",
       "Walk-in                 50.00"
      ]
     },
     "execution_count": 62,
     "metadata": {
      "tags": []
     },
     "output_type": "execute_result"
    }
   ],
   "source": [
    "rec = ((df[['recruitment_type','satisfied']].groupby(['recruitment_type']).mean())*100).round(2).sort_values(by='satisfied', ascending=False)\n",
    "rec"
   ]
  },
  {
   "cell_type": "code",
   "execution_count": null,
   "metadata": {
    "colab": {
     "base_uri": "https://localhost:8080/",
     "height": 447
    },
    "executionInfo": {
     "elapsed": 2482,
     "status": "ok",
     "timestamp": 1604896374694,
     "user": {
      "displayName": "Denny Setia Dwiputra",
      "photoUrl": "https://lh3.googleusercontent.com/a-/AOh14GheQSIjmpXmrulrtnhemFKjsaAPE4APTVVVqNuX0w=s64",
      "userId": "16685659883209092994"
     },
     "user_tz": -420
    },
    "id": "HlQLBn6yRgIF",
    "outputId": "bbe825c1-30b6-485f-813a-6277a8ed7e82"
   },
   "outputs": [
    {
     "data": {
      "text/plain": [
       "<BarContainer object of 4 artists>"
      ]
     },
     "execution_count": 65,
     "metadata": {
      "tags": []
     },
     "output_type": "execute_result"
    },
    {
     "data": {
      "image/png": "[encoded data removed]",
      "text/plain": [
       "<Figure size 576x504 with 1 Axes>"
      ]
     },
     "metadata": {
      "tags": []
     },
     "output_type": "display_data"
    }
   ],
   "source": [
    "plt.figure(figsize=(8,7))\n",
    "plt.bar( rec.index.values,rec['satisfied'])"
   ]
  },
  {
   "cell_type": "markdown",
   "metadata": {
    "id": "IPIbEHdiSyWL"
   },
   "source": [
    "### Job Level\n",
    "> We always want to the highest level from our job.  \n",
    "Is the **highest** level of job gives  a positive corralation with satisfaction?  \n",
    "We see the anomaly, why **Employees** in **level 2** have the **lowest** rates of **satisfaction**?"
   ]
  },
  {
   "cell_type": "code",
   "execution_count": null,
   "metadata": {
    "colab": {
     "base_uri": "https://localhost:8080/",
     "height": 227
    },
    "executionInfo": {
     "elapsed": 1378,
     "status": "ok",
     "timestamp": 1604896783161,
     "user": {
      "displayName": "Denny Setia Dwiputra",
      "photoUrl": "https://lh3.googleusercontent.com/a-/AOh14GheQSIjmpXmrulrtnhemFKjsaAPE4APTVVVqNuX0w=s64",
      "userId": "16685659883209092994"
     },
     "user_tz": -420
    },
    "id": "vW8SnazqS3n9",
    "outputId": "5098c167-3155-4cf0-8080-38cf82dac707"
   },
   "outputs": [
    {
     "data": {
      "text/html": [
       "<div>\n",
       "<style scoped>\n",
       "    .dataframe tbody tr th:only-of-type {\n",
       "        vertical-align: middle;\n",
       "    }\n",
       "\n",
       "    .dataframe tbody tr th {\n",
       "        vertical-align: top;\n",
       "    }\n",
       "\n",
       "    .dataframe thead th {\n",
       "        text-align: right;\n",
       "    }\n",
       "</style>\n",
       "<table border=\"1\" class=\"dataframe\">\n",
       "  <thead>\n",
       "    <tr style=\"text-align: right;\">\n",
       "      <th></th>\n",
       "      <th>satisfied</th>\n",
       "    </tr>\n",
       "    <tr>\n",
       "      <th>job_level</th>\n",
       "      <th></th>\n",
       "    </tr>\n",
       "  </thead>\n",
       "  <tbody>\n",
       "    <tr>\n",
       "      <th>1</th>\n",
       "      <td>56.84</td>\n",
       "    </tr>\n",
       "    <tr>\n",
       "      <th>5</th>\n",
       "      <td>56.31</td>\n",
       "    </tr>\n",
       "    <tr>\n",
       "      <th>4</th>\n",
       "      <td>51.82</td>\n",
       "    </tr>\n",
       "    <tr>\n",
       "      <th>3</th>\n",
       "      <td>50.00</td>\n",
       "    </tr>\n",
       "    <tr>\n",
       "      <th>2</th>\n",
       "      <td>48.18</td>\n",
       "    </tr>\n",
       "  </tbody>\n",
       "</table>\n",
       "</div>"
      ],
      "text/plain": [
       "           satisfied\n",
       "job_level           \n",
       "1              56.84\n",
       "5              56.31\n",
       "4              51.82\n",
       "3              50.00\n",
       "2              48.18"
      ]
     },
     "execution_count": 71,
     "metadata": {
      "tags": []
     },
     "output_type": "execute_result"
    }
   ],
   "source": [
    "lev = ((df[['job_level','satisfied']].groupby(['job_level']).mean())*100).round(2).sort_values(by='satisfied', ascending=False)\n",
    "lev"
   ]
  },
  {
   "cell_type": "code",
   "execution_count": null,
   "metadata": {
    "colab": {
     "base_uri": "https://localhost:8080/",
     "height": 447
    },
    "executionInfo": {
     "elapsed": 866,
     "status": "ok",
     "timestamp": 1604896786486,
     "user": {
      "displayName": "Denny Setia Dwiputra",
      "photoUrl": "https://lh3.googleusercontent.com/a-/AOh14GheQSIjmpXmrulrtnhemFKjsaAPE4APTVVVqNuX0w=s64",
      "userId": "16685659883209092994"
     },
     "user_tz": -420
    },
    "id": "mxkg9dZKTInL",
    "outputId": "947ccd2c-28e8-49d8-9760-ba2d9bd4d94c"
   },
   "outputs": [
    {
     "data": {
      "text/plain": [
       "<BarContainer object of 5 artists>"
      ]
     },
     "execution_count": 72,
     "metadata": {
      "tags": []
     },
     "output_type": "execute_result"
    },
    {
     "data": {
      "image/png": "[encoded data removed]",
      "text/plain": [
       "<Figure size 576x504 with 1 Axes>"
      ]
     },
     "metadata": {
      "tags": []
     },
     "output_type": "display_data"
    }
   ],
   "source": [
    "plt.figure(figsize=(8,7))\n",
    "plt.bar(lev.index.values,lev['satisfied'])"
   ]
  },
  {
   "cell_type": "markdown",
   "metadata": {
    "id": "FpgwOlSZUfNk"
   },
   "source": [
    "### Employee Rating\n",
    "> We expected that the more **rating** of the **employee** gives a **positive** **correlation** with **satisfaction** result, but We see that anomaly again, why **employee** who had a **rating** 3 have a score **lower** than **rating** 2?"
   ]
  },
  {
   "cell_type": "code",
   "execution_count": null,
   "metadata": {
    "colab": {
     "base_uri": "https://localhost:8080/",
     "height": 227
    },
    "executionInfo": {
     "elapsed": 912,
     "status": "ok",
     "timestamp": 1604897132013,
     "user": {
      "displayName": "Denny Setia Dwiputra",
      "photoUrl": "https://lh3.googleusercontent.com/a-/AOh14GheQSIjmpXmrulrtnhemFKjsaAPE4APTVVVqNuX0w=s64",
      "userId": "16685659883209092994"
     },
     "user_tz": -420
    },
    "id": "Q1aeAoG5UoGI",
    "outputId": "c81ec35e-6d8f-4f76-ffc5-9da858a52d30"
   },
   "outputs": [
    {
     "data": {
      "text/html": [
       "<div>\n",
       "<style scoped>\n",
       "    .dataframe tbody tr th:only-of-type {\n",
       "        vertical-align: middle;\n",
       "    }\n",
       "\n",
       "    .dataframe tbody tr th {\n",
       "        vertical-align: top;\n",
       "    }\n",
       "\n",
       "    .dataframe thead th {\n",
       "        text-align: right;\n",
       "    }\n",
       "</style>\n",
       "<table border=\"1\" class=\"dataframe\">\n",
       "  <thead>\n",
       "    <tr style=\"text-align: right;\">\n",
       "      <th></th>\n",
       "      <th>satisfied</th>\n",
       "    </tr>\n",
       "    <tr>\n",
       "      <th>rating</th>\n",
       "      <th></th>\n",
       "    </tr>\n",
       "  </thead>\n",
       "  <tbody>\n",
       "    <tr>\n",
       "      <th>5</th>\n",
       "      <td>60.38</td>\n",
       "    </tr>\n",
       "    <tr>\n",
       "      <th>4</th>\n",
       "      <td>55.75</td>\n",
       "    </tr>\n",
       "    <tr>\n",
       "      <th>2</th>\n",
       "      <td>51.52</td>\n",
       "    </tr>\n",
       "    <tr>\n",
       "      <th>3</th>\n",
       "      <td>47.13</td>\n",
       "    </tr>\n",
       "    <tr>\n",
       "      <th>1</th>\n",
       "      <td>46.32</td>\n",
       "    </tr>\n",
       "  </tbody>\n",
       "</table>\n",
       "</div>"
      ],
      "text/plain": [
       "        satisfied\n",
       "rating           \n",
       "5           60.38\n",
       "4           55.75\n",
       "2           51.52\n",
       "3           47.13\n",
       "1           46.32"
      ]
     },
     "execution_count": 74,
     "metadata": {
      "tags": []
     },
     "output_type": "execute_result"
    }
   ],
   "source": [
    "rate = ((df[['rating','satisfied']].groupby(['rating']).mean())*100).round(2).sort_values(by='satisfied', ascending=False)\n",
    "rate"
   ]
  },
  {
   "cell_type": "code",
   "execution_count": null,
   "metadata": {
    "colab": {
     "base_uri": "https://localhost:8080/",
     "height": 447
    },
    "executionInfo": {
     "elapsed": 1137,
     "status": "ok",
     "timestamp": 1604897171111,
     "user": {
      "displayName": "Denny Setia Dwiputra",
      "photoUrl": "https://lh3.googleusercontent.com/a-/AOh14GheQSIjmpXmrulrtnhemFKjsaAPE4APTVVVqNuX0w=s64",
      "userId": "16685659883209092994"
     },
     "user_tz": -420
    },
    "id": "W4RG1qB8Urfm",
    "outputId": "b2ddc057-2890-4ce7-936f-b257940530b1"
   },
   "outputs": [
    {
     "data": {
      "text/plain": [
       "<BarContainer object of 5 artists>"
      ]
     },
     "execution_count": 75,
     "metadata": {
      "tags": []
     },
     "output_type": "execute_result"
    },
    {
     "data": {
      "image/png": "[encoded data removed]",
      "text/plain": [
       "<Figure size 576x504 with 1 Axes>"
      ]
     },
     "metadata": {
      "tags": []
     },
     "output_type": "display_data"
    }
   ],
   "source": [
    "plt.figure(figsize=(8,7))\n",
    "plt.bar(rate.index.values,rate['satisfied'])"
   ]
  },
  {
   "cell_type": "markdown",
   "metadata": {
    "id": "gcnl2LkzWHch"
   },
   "source": [
    "### On Site"
   ]
  },
  {
   "cell_type": "code",
   "execution_count": null,
   "metadata": {
    "colab": {
     "base_uri": "https://localhost:8080/",
     "height": 137
    },
    "executionInfo": {
     "elapsed": 862,
     "status": "ok",
     "timestamp": 1604898990112,
     "user": {
      "displayName": "Denny Setia Dwiputra",
      "photoUrl": "https://lh3.googleusercontent.com/a-/AOh14GheQSIjmpXmrulrtnhemFKjsaAPE4APTVVVqNuX0w=s64",
      "userId": "16685659883209092994"
     },
     "user_tz": -420
    },
    "id": "iFBLjQfcWIWk",
    "outputId": "dfdc9e19-6825-476f-e5fc-680b19d044d3"
   },
   "outputs": [
    {
     "data": {
      "text/html": [
       "<div>\n",
       "<style scoped>\n",
       "    .dataframe tbody tr th:only-of-type {\n",
       "        vertical-align: middle;\n",
       "    }\n",
       "\n",
       "    .dataframe tbody tr th {\n",
       "        vertical-align: top;\n",
       "    }\n",
       "\n",
       "    .dataframe thead th {\n",
       "        text-align: right;\n",
       "    }\n",
       "</style>\n",
       "<table border=\"1\" class=\"dataframe\">\n",
       "  <thead>\n",
       "    <tr style=\"text-align: right;\">\n",
       "      <th></th>\n",
       "      <th>satisfied</th>\n",
       "    </tr>\n",
       "    <tr>\n",
       "      <th>onsite</th>\n",
       "      <th></th>\n",
       "    </tr>\n",
       "  </thead>\n",
       "  <tbody>\n",
       "    <tr>\n",
       "      <th>Yes</th>\n",
       "      <td>54.08</td>\n",
       "    </tr>\n",
       "    <tr>\n",
       "      <th>No</th>\n",
       "      <td>51.31</td>\n",
       "    </tr>\n",
       "  </tbody>\n",
       "</table>\n",
       "</div>"
      ],
      "text/plain": [
       "        satisfied\n",
       "onsite           \n",
       "Yes         54.08\n",
       "No          51.31"
      ]
     },
     "execution_count": 92,
     "metadata": {
      "tags": []
     },
     "output_type": "execute_result"
    }
   ],
   "source": [
    "onsite = ((df[['onsite','satisfied']].groupby(['onsite']).mean())*100).round(2).sort_values(by='satisfied', ascending=False)\n",
    "onsite = onsite.rename(index={0: 'No',1:'Yes'})\n",
    "onsite"
   ]
  },
  {
   "cell_type": "code",
   "execution_count": null,
   "metadata": {
    "colab": {
     "base_uri": "https://localhost:8080/",
     "height": 322
    },
    "executionInfo": {
     "elapsed": 1162,
     "status": "ok",
     "timestamp": 1604898993753,
     "user": {
      "displayName": "Denny Setia Dwiputra",
      "photoUrl": "https://lh3.googleusercontent.com/a-/AOh14GheQSIjmpXmrulrtnhemFKjsaAPE4APTVVVqNuX0w=s64",
      "userId": "16685659883209092994"
     },
     "user_tz": -420
    },
    "id": "Q5XwetyLWSDG",
    "outputId": "7b5ea3bc-0a81-4c21-e079-60d1a9114b3a"
   },
   "outputs": [
    {
     "data": {
      "image/png": "[encoded data removed]",
      "text/plain": [
       "<Figure size 360x360 with 1 Axes>"
      ]
     },
     "metadata": {
      "tags": []
     },
     "output_type": "display_data"
    }
   ],
   "source": [
    "plt.figure(figsize=(5,5))\n",
    "plt.bar(onsite.index.values,onsite['satisfied'])\n",
    "plt.show()"
   ]
  },
  {
   "cell_type": "markdown",
   "metadata": {
    "id": "e4O8WgK3XKM6"
   },
   "source": [
    "### Award\n",
    "Award is big achievement for every employee, but why employee who had 0 **awards** is the second **highest** rate of **satisfied**, and employee who had 8 **awards** is the third **lowest** rate of **satisfied**? that is interesting, because there so many factor (features) that could make employee **satisfied** with his job."
   ]
  },
  {
   "cell_type": "code",
   "execution_count": null,
   "metadata": {
    "colab": {
     "base_uri": "https://localhost:8080/",
     "height": 377
    },
    "executionInfo": {
     "elapsed": 808,
     "status": "ok",
     "timestamp": 1604897817949,
     "user": {
      "displayName": "Denny Setia Dwiputra",
      "photoUrl": "https://lh3.googleusercontent.com/a-/AOh14GheQSIjmpXmrulrtnhemFKjsaAPE4APTVVVqNuX0w=s64",
      "userId": "16685659883209092994"
     },
     "user_tz": -420
    },
    "id": "agkHyyQyXLSd",
    "outputId": "c8bc3a8c-86fb-4aea-b914-89c17263e913"
   },
   "outputs": [
    {
     "data": {
      "text/html": [
       "<div>\n",
       "<style scoped>\n",
       "    .dataframe tbody tr th:only-of-type {\n",
       "        vertical-align: middle;\n",
       "    }\n",
       "\n",
       "    .dataframe tbody tr th {\n",
       "        vertical-align: top;\n",
       "    }\n",
       "\n",
       "    .dataframe thead th {\n",
       "        text-align: right;\n",
       "    }\n",
       "</style>\n",
       "<table border=\"1\" class=\"dataframe\">\n",
       "  <thead>\n",
       "    <tr style=\"text-align: right;\">\n",
       "      <th></th>\n",
       "      <th>satisfied</th>\n",
       "    </tr>\n",
       "    <tr>\n",
       "      <th>awards</th>\n",
       "      <th></th>\n",
       "    </tr>\n",
       "  </thead>\n",
       "  <tbody>\n",
       "    <tr>\n",
       "      <th>7</th>\n",
       "      <td>64.00</td>\n",
       "    </tr>\n",
       "    <tr>\n",
       "      <th>0</th>\n",
       "      <td>61.54</td>\n",
       "    </tr>\n",
       "    <tr>\n",
       "      <th>6</th>\n",
       "      <td>58.70</td>\n",
       "    </tr>\n",
       "    <tr>\n",
       "      <th>4</th>\n",
       "      <td>56.86</td>\n",
       "    </tr>\n",
       "    <tr>\n",
       "      <th>9</th>\n",
       "      <td>53.19</td>\n",
       "    </tr>\n",
       "    <tr>\n",
       "      <th>5</th>\n",
       "      <td>51.92</td>\n",
       "    </tr>\n",
       "    <tr>\n",
       "      <th>1</th>\n",
       "      <td>51.22</td>\n",
       "    </tr>\n",
       "    <tr>\n",
       "      <th>8</th>\n",
       "      <td>46.43</td>\n",
       "    </tr>\n",
       "    <tr>\n",
       "      <th>3</th>\n",
       "      <td>43.86</td>\n",
       "    </tr>\n",
       "    <tr>\n",
       "      <th>2</th>\n",
       "      <td>39.58</td>\n",
       "    </tr>\n",
       "  </tbody>\n",
       "</table>\n",
       "</div>"
      ],
      "text/plain": [
       "        satisfied\n",
       "awards           \n",
       "7           64.00\n",
       "0           61.54\n",
       "6           58.70\n",
       "4           56.86\n",
       "9           53.19\n",
       "5           51.92\n",
       "1           51.22\n",
       "8           46.43\n",
       "3           43.86\n",
       "2           39.58"
      ]
     },
     "execution_count": 81,
     "metadata": {
      "tags": []
     },
     "output_type": "execute_result"
    }
   ],
   "source": [
    "awd = ((df[['awards','satisfied']].groupby(['awards']).mean())*100).round(2).sort_values(by='satisfied', ascending=False)\n",
    "awd"
   ]
  },
  {
   "cell_type": "code",
   "execution_count": null,
   "metadata": {
    "colab": {
     "base_uri": "https://localhost:8080/",
     "height": 284
    },
    "executionInfo": {
     "elapsed": 1107,
     "status": "ok",
     "timestamp": 1604897992157,
     "user": {
      "displayName": "Denny Setia Dwiputra",
      "photoUrl": "https://lh3.googleusercontent.com/a-/AOh14GheQSIjmpXmrulrtnhemFKjsaAPE4APTVVVqNuX0w=s64",
      "userId": "16685659883209092994"
     },
     "user_tz": -420
    },
    "id": "WLWdfNSSX9Jw",
    "outputId": "c7874964-3090-4c5b-9786-17abbe00f4d2"
   },
   "outputs": [
    {
     "data": {
      "image/png": "[encoded data removed]",
      "text/plain": [
       "<Figure size 432x288 with 1 Axes>"
      ]
     },
     "metadata": {
      "tags": []
     },
     "output_type": "display_data"
    }
   ],
   "source": [
    "sns.set_theme(style=\"whitegrid\")\n",
    "ax = sns.boxplot(x=df[\"awards\"])"
   ]
  },
  {
   "cell_type": "code",
   "execution_count": null,
   "metadata": {
    "colab": {
     "base_uri": "https://localhost:8080/",
     "height": 484
    },
    "executionInfo": {
     "elapsed": 892,
     "status": "ok",
     "timestamp": 1604897876973,
     "user": {
      "displayName": "Denny Setia Dwiputra",
      "photoUrl": "https://lh3.googleusercontent.com/a-/AOh14GheQSIjmpXmrulrtnhemFKjsaAPE4APTVVVqNuX0w=s64",
      "userId": "16685659883209092994"
     },
     "user_tz": -420
    },
    "id": "ISMD7rw6XP5t",
    "outputId": "5fac75af-0495-4300-c484-55be2aeb4475"
   },
   "outputs": [
    {
     "data": {
      "image/png": "[encoded data removed]",
      "text/plain": [
       "<Figure size 576x576 with 1 Axes>"
      ]
     },
     "metadata": {
      "tags": []
     },
     "output_type": "display_data"
    }
   ],
   "source": [
    "plt.figure(figsize=(8,8))\n",
    "plt.bar(awd.index.values,awd['satisfied'])\n",
    "plt.show()"
   ]
  },
  {
   "cell_type": "markdown",
   "metadata": {
    "id": "eAHCdI5EaukU"
   },
   "source": [
    "### Certification\n",
    ">There is no significant differences rates between Yes or No, Employees who have a certifications."
   ]
  },
  {
   "cell_type": "code",
   "execution_count": null,
   "metadata": {
    "colab": {
     "base_uri": "https://localhost:8080/",
     "height": 137
    },
    "executionInfo": {
     "elapsed": 871,
     "status": "ok",
     "timestamp": 1604898952194,
     "user": {
      "displayName": "Denny Setia Dwiputra",
      "photoUrl": "https://lh3.googleusercontent.com/a-/AOh14GheQSIjmpXmrulrtnhemFKjsaAPE4APTVVVqNuX0w=s64",
      "userId": "16685659883209092994"
     },
     "user_tz": -420
    },
    "id": "Q9cFciPoXc3N",
    "outputId": "a56bf598-284a-4dec-ca9f-90a5d428eb9f"
   },
   "outputs": [
    {
     "data": {
      "text/html": [
       "<div>\n",
       "<style scoped>\n",
       "    .dataframe tbody tr th:only-of-type {\n",
       "        vertical-align: middle;\n",
       "    }\n",
       "\n",
       "    .dataframe tbody tr th {\n",
       "        vertical-align: top;\n",
       "    }\n",
       "\n",
       "    .dataframe thead th {\n",
       "        text-align: right;\n",
       "    }\n",
       "</style>\n",
       "<table border=\"1\" class=\"dataframe\">\n",
       "  <thead>\n",
       "    <tr style=\"text-align: right;\">\n",
       "      <th></th>\n",
       "      <th>satisfied</th>\n",
       "    </tr>\n",
       "    <tr>\n",
       "      <th>certifications</th>\n",
       "      <th></th>\n",
       "    </tr>\n",
       "  </thead>\n",
       "  <tbody>\n",
       "    <tr>\n",
       "      <th>No</th>\n",
       "      <td>53.17</td>\n",
       "    </tr>\n",
       "    <tr>\n",
       "      <th>Yes</th>\n",
       "      <td>52.02</td>\n",
       "    </tr>\n",
       "  </tbody>\n",
       "</table>\n",
       "</div>"
      ],
      "text/plain": [
       "                satisfied\n",
       "certifications           \n",
       "No                  53.17\n",
       "Yes                 52.02"
      ]
     },
     "execution_count": 90,
     "metadata": {
      "tags": []
     },
     "output_type": "execute_result"
    }
   ],
   "source": [
    "cert = ((df[['certifications','satisfied']].groupby(['certifications']).mean())*100).round(2).sort_values(by='satisfied', ascending=False)\n",
    "cert = cert.rename(index={0: 'No',1:'Yes'})\n",
    "cert"
   ]
  },
  {
   "cell_type": "code",
   "execution_count": null,
   "metadata": {
    "colab": {
     "base_uri": "https://localhost:8080/",
     "height": 322
    },
    "executionInfo": {
     "elapsed": 911,
     "status": "ok",
     "timestamp": 1604898956126,
     "user": {
      "displayName": "Denny Setia Dwiputra",
      "photoUrl": "https://lh3.googleusercontent.com/a-/AOh14GheQSIjmpXmrulrtnhemFKjsaAPE4APTVVVqNuX0w=s64",
      "userId": "16685659883209092994"
     },
     "user_tz": -420
    },
    "id": "2_0JA20Ua0Zy",
    "outputId": "91949b6c-dbbc-481c-b15b-1adecb89e066"
   },
   "outputs": [
    {
     "data": {
      "image/png": "[encoded data removed]",
      "text/plain": [
       "<Figure size 360x360 with 1 Axes>"
      ]
     },
     "metadata": {
      "tags": []
     },
     "output_type": "display_data"
    }
   ],
   "source": [
    "plt.figure(figsize=(5,5))\n",
    "plt.bar(cert.index.values,cert['satisfied'])\n",
    "plt.show()"
   ]
  },
  {
   "cell_type": "markdown",
   "metadata": {
    "id": "aCgmoDtrb4zG"
   },
   "source": [
    "### Salary\n",
    "> I divide the salary classification in 3 level  \n",
    "1. **Low** (24076-45000)\n",
    "2. **Medium** (45001-66000)\n",
    "3. **High** (66001-86750)\n",
    "\n",
    "> We got the insight that** Low-High** had a **positive** **corralation** to Employee **Satisfaction**."
   ]
  },
  {
   "cell_type": "markdown",
   "metadata": {
    "id": "4BvQQNIpfSoR"
   },
   "source": [
    "As we see in the **boxplot**, there is no **Outliers** with Employee **Salary**"
   ]
  },
  {
   "cell_type": "code",
   "execution_count": null,
   "metadata": {
    "colab": {
     "base_uri": "https://localhost:8080/",
     "height": 284
    },
    "executionInfo": {
     "elapsed": 898,
     "status": "ok",
     "timestamp": 1604899901468,
     "user": {
      "displayName": "Denny Setia Dwiputra",
      "photoUrl": "https://lh3.googleusercontent.com/a-/AOh14GheQSIjmpXmrulrtnhemFKjsaAPE4APTVVVqNuX0w=s64",
      "userId": "16685659883209092994"
     },
     "user_tz": -420
    },
    "id": "KGyb9uJDfN77",
    "outputId": "bf609f23-0aad-493b-8946-7e46d97098c7"
   },
   "outputs": [
    {
     "data": {
      "image/png": "[encoded data removed]",
      "text/plain": [
       "<Figure size 432x288 with 1 Axes>"
      ]
     },
     "metadata": {
      "tags": []
     },
     "output_type": "display_data"
    }
   ],
   "source": [
    "sns.set_theme(style=\"whitegrid\")\n",
    "ax = sns.boxplot(x=df[\"salary\"])"
   ]
  },
  {
   "cell_type": "code",
   "execution_count": null,
   "metadata": {
    "colab": {
     "base_uri": "https://localhost:8080/"
    },
    "executionInfo": {
     "elapsed": 834,
     "status": "ok",
     "timestamp": 1604899208548,
     "user": {
      "displayName": "Denny Setia Dwiputra",
      "photoUrl": "https://lh3.googleusercontent.com/a-/AOh14GheQSIjmpXmrulrtnhemFKjsaAPE4APTVVVqNuX0w=s64",
      "userId": "16685659883209092994"
     },
     "user_tz": -420
    },
    "id": "P8nuI3O4cf1f",
    "outputId": "3e844880-7223-4538-bbc6-a95e9aa60077"
   },
   "outputs": [
    {
     "name": "stdout",
     "output_type": "stream",
     "text": [
      "The Lowest salary of this dataset :24076\n",
      "The Highest salary of this dataset :86750\n"
     ]
    }
   ],
   "source": [
    "sal_min = df['salary'].min() ### the lowest age of this dataset\n",
    "sal_max = df['salary'].max()\n",
    "print(f'The Lowest salary of this dataset :{sal_min}')\n",
    "print(f'The Highest salary of this dataset :{sal_max}')"
   ]
  },
  {
   "cell_type": "code",
   "execution_count": null,
   "metadata": {
    "id": "dZHZvStDclel"
   },
   "outputs": [],
   "source": [
    "age_bin = [24000,45000,66000,df['salary'].max()]\n",
    "labels = ['Low','Medium','High']\n",
    "df['salary_range'] = pd.cut(df['salary'],bins =age_bin,labels = labels )"
   ]
  },
  {
   "cell_type": "code",
   "execution_count": null,
   "metadata": {
    "colab": {
     "base_uri": "https://localhost:8080/",
     "height": 167
    },
    "executionInfo": {
     "elapsed": 895,
     "status": "ok",
     "timestamp": 1604901214643,
     "user": {
      "displayName": "Denny Setia Dwiputra",
      "photoUrl": "https://lh3.googleusercontent.com/a-/AOh14GheQSIjmpXmrulrtnhemFKjsaAPE4APTVVVqNuX0w=s64",
      "userId": "16685659883209092994"
     },
     "user_tz": -420
    },
    "id": "38OR4MNldzOY",
    "outputId": "235631a2-9632-434b-9155-10d32c0f5ea1"
   },
   "outputs": [
    {
     "data": {
      "text/html": [
       "<div>\n",
       "<style scoped>\n",
       "    .dataframe tbody tr th:only-of-type {\n",
       "        vertical-align: middle;\n",
       "    }\n",
       "\n",
       "    .dataframe tbody tr th {\n",
       "        vertical-align: top;\n",
       "    }\n",
       "\n",
       "    .dataframe thead th {\n",
       "        text-align: right;\n",
       "    }\n",
       "</style>\n",
       "<table border=\"1\" class=\"dataframe\">\n",
       "  <thead>\n",
       "    <tr style=\"text-align: right;\">\n",
       "      <th></th>\n",
       "      <th>satisfied</th>\n",
       "    </tr>\n",
       "    <tr>\n",
       "      <th>salary_range</th>\n",
       "      <th></th>\n",
       "    </tr>\n",
       "  </thead>\n",
       "  <tbody>\n",
       "    <tr>\n",
       "      <th>Low</th>\n",
       "      <td>51.57</td>\n",
       "    </tr>\n",
       "    <tr>\n",
       "      <th>Medium</th>\n",
       "      <td>51.82</td>\n",
       "    </tr>\n",
       "    <tr>\n",
       "      <th>High</th>\n",
       "      <td>56.31</td>\n",
       "    </tr>\n",
       "  </tbody>\n",
       "</table>\n",
       "</div>"
      ],
      "text/plain": [
       "              satisfied\n",
       "salary_range           \n",
       "Low               51.57\n",
       "Medium            51.82\n",
       "High              56.31"
      ]
     },
     "execution_count": 129,
     "metadata": {
      "tags": []
     },
     "output_type": "execute_result"
    }
   ],
   "source": [
    "salary = ((df[['salary_range','satisfied']].groupby(['salary_range']).mean())*100).round(2).sort_values(by='satisfied', ascending=True)\n",
    "salary"
   ]
  },
  {
   "cell_type": "code",
   "execution_count": null,
   "metadata": {
    "colab": {
     "base_uri": "https://localhost:8080/",
     "height": 322
    },
    "executionInfo": {
     "elapsed": 826,
     "status": "ok",
     "timestamp": 1604901222119,
     "user": {
      "displayName": "Denny Setia Dwiputra",
      "photoUrl": "https://lh3.googleusercontent.com/a-/AOh14GheQSIjmpXmrulrtnhemFKjsaAPE4APTVVVqNuX0w=s64",
      "userId": "16685659883209092994"
     },
     "user_tz": -420
    },
    "id": "rRUiDwwVe_Ul",
    "outputId": "aa887aa1-5bce-4774-81de-559520cd5c5d"
   },
   "outputs": [
    {
     "data": {
      "image/png": "[encoded data removed]",
      "text/plain": [
       "<Figure size 360x360 with 1 Axes>"
      ]
     },
     "metadata": {
      "tags": []
     },
     "output_type": "display_data"
    }
   ],
   "source": [
    "plt.figure(figsize=(5,5))\n",
    "plt.bar(salary.index.values,salary['satisfied'])\n",
    "plt.show()"
   ]
  },
  {
   "cell_type": "markdown",
   "metadata": {
    "id": "KEPyARzKfmIs"
   },
   "source": [
    "## Feature Engineering"
   ]
  },
  {
   "cell_type": "markdown",
   "metadata": {
    "id": "tBZ0_EfwpxRA"
   },
   "source": [
    "### One Hot Encoding"
   ]
  },
  {
   "cell_type": "markdown",
   "metadata": {
    "id": "E_rNxDhkqFRu"
   },
   "source": [
    "#### Departemen"
   ]
  },
  {
   "cell_type": "code",
   "execution_count": null,
   "metadata": {
    "id": "19wSYszrp5P6"
   },
   "outputs": [],
   "source": [
    "df = pd.get_dummies(data=df, columns=['Dept'])"
   ]
  },
  {
   "cell_type": "code",
   "execution_count": null,
   "metadata": {
    "colab": {
     "base_uri": "https://localhost:8080/",
     "height": 401
    },
    "executionInfo": {
     "elapsed": 924,
     "status": "ok",
     "timestamp": 1604902718000,
     "user": {
      "displayName": "Denny Setia Dwiputra",
      "photoUrl": "https://lh3.googleusercontent.com/a-/AOh14GheQSIjmpXmrulrtnhemFKjsaAPE4APTVVVqNuX0w=s64",
      "userId": "16685659883209092994"
     },
     "user_tz": -420
    },
    "id": "PyseaYR6p-Rs",
    "outputId": "92dadb2a-6bff-4b6a-c907-d9ff5256dcab"
   },
   "outputs": [
    {
     "data": {
      "text/html": [
       "<div>\n",
       "<style scoped>\n",
       "    .dataframe tbody tr th:only-of-type {\n",
       "        vertical-align: middle;\n",
       "    }\n",
       "\n",
       "    .dataframe tbody tr th {\n",
       "        vertical-align: top;\n",
       "    }\n",
       "\n",
       "    .dataframe thead th {\n",
       "        text-align: right;\n",
       "    }\n",
       "</style>\n",
       "<table border=\"1\" class=\"dataframe\">\n",
       "  <thead>\n",
       "    <tr style=\"text-align: right;\">\n",
       "      <th></th>\n",
       "      <th>Unnamed: 0</th>\n",
       "      <th>emp_id</th>\n",
       "      <th>age</th>\n",
       "      <th>location</th>\n",
       "      <th>education</th>\n",
       "      <th>recruitment_type</th>\n",
       "      <th>job_level</th>\n",
       "      <th>rating</th>\n",
       "      <th>onsite</th>\n",
       "      <th>awards</th>\n",
       "      <th>certifications</th>\n",
       "      <th>salary</th>\n",
       "      <th>satisfied</th>\n",
       "      <th>retirement</th>\n",
       "      <th>salary_range</th>\n",
       "      <th>salary_bin2</th>\n",
       "      <th>Dept_HR</th>\n",
       "      <th>Dept_Marketing</th>\n",
       "      <th>Dept_Purchasing</th>\n",
       "      <th>Dept_Sales</th>\n",
       "      <th>Dept_Technology</th>\n",
       "    </tr>\n",
       "  </thead>\n",
       "  <tbody>\n",
       "    <tr>\n",
       "      <th>0</th>\n",
       "      <td>0</td>\n",
       "      <td>HR8270</td>\n",
       "      <td>28</td>\n",
       "      <td>Suburb</td>\n",
       "      <td>PG</td>\n",
       "      <td>Referral</td>\n",
       "      <td>5</td>\n",
       "      <td>2</td>\n",
       "      <td>0</td>\n",
       "      <td>1</td>\n",
       "      <td>0</td>\n",
       "      <td>86750</td>\n",
       "      <td>1</td>\n",
       "      <td>More than Equal 20 Years</td>\n",
       "      <td>High</td>\n",
       "      <td>2</td>\n",
       "      <td>1</td>\n",
       "      <td>0</td>\n",
       "      <td>0</td>\n",
       "      <td>0</td>\n",
       "      <td>0</td>\n",
       "    </tr>\n",
       "    <tr>\n",
       "      <th>1</th>\n",
       "      <td>1</td>\n",
       "      <td>TECH1860</td>\n",
       "      <td>50</td>\n",
       "      <td>Suburb</td>\n",
       "      <td>PG</td>\n",
       "      <td>Walk-in</td>\n",
       "      <td>3</td>\n",
       "      <td>5</td>\n",
       "      <td>1</td>\n",
       "      <td>2</td>\n",
       "      <td>1</td>\n",
       "      <td>42419</td>\n",
       "      <td>0</td>\n",
       "      <td>Less Than Equal 10 years</td>\n",
       "      <td>Low</td>\n",
       "      <td>0</td>\n",
       "      <td>0</td>\n",
       "      <td>0</td>\n",
       "      <td>0</td>\n",
       "      <td>0</td>\n",
       "      <td>1</td>\n",
       "    </tr>\n",
       "    <tr>\n",
       "      <th>2</th>\n",
       "      <td>2</td>\n",
       "      <td>TECH6390</td>\n",
       "      <td>43</td>\n",
       "      <td>Suburb</td>\n",
       "      <td>UG</td>\n",
       "      <td>Referral</td>\n",
       "      <td>4</td>\n",
       "      <td>1</td>\n",
       "      <td>0</td>\n",
       "      <td>2</td>\n",
       "      <td>0</td>\n",
       "      <td>65715</td>\n",
       "      <td>0</td>\n",
       "      <td>More than Equal 10 Years</td>\n",
       "      <td>Medium</td>\n",
       "      <td>1</td>\n",
       "      <td>0</td>\n",
       "      <td>0</td>\n",
       "      <td>0</td>\n",
       "      <td>0</td>\n",
       "      <td>1</td>\n",
       "    </tr>\n",
       "    <tr>\n",
       "      <th>3</th>\n",
       "      <td>3</td>\n",
       "      <td>SAL6191</td>\n",
       "      <td>44</td>\n",
       "      <td>City</td>\n",
       "      <td>PG</td>\n",
       "      <td>On-Campus</td>\n",
       "      <td>2</td>\n",
       "      <td>3</td>\n",
       "      <td>1</td>\n",
       "      <td>0</td>\n",
       "      <td>0</td>\n",
       "      <td>29805</td>\n",
       "      <td>1</td>\n",
       "      <td>More than Equal 10 Years</td>\n",
       "      <td>Low</td>\n",
       "      <td>0</td>\n",
       "      <td>0</td>\n",
       "      <td>0</td>\n",
       "      <td>0</td>\n",
       "      <td>1</td>\n",
       "      <td>0</td>\n",
       "    </tr>\n",
       "    <tr>\n",
       "      <th>4</th>\n",
       "      <td>4</td>\n",
       "      <td>HR6734</td>\n",
       "      <td>33</td>\n",
       "      <td>City</td>\n",
       "      <td>UG</td>\n",
       "      <td>Recruitment Agency</td>\n",
       "      <td>2</td>\n",
       "      <td>1</td>\n",
       "      <td>0</td>\n",
       "      <td>5</td>\n",
       "      <td>0</td>\n",
       "      <td>29805</td>\n",
       "      <td>1</td>\n",
       "      <td>More than Equal 20 Years</td>\n",
       "      <td>Low</td>\n",
       "      <td>0</td>\n",
       "      <td>1</td>\n",
       "      <td>0</td>\n",
       "      <td>0</td>\n",
       "      <td>0</td>\n",
       "      <td>0</td>\n",
       "    </tr>\n",
       "  </tbody>\n",
       "</table>\n",
       "</div>"
      ],
      "text/plain": [
       "   Unnamed: 0    emp_id  age  ... Dept_Purchasing Dept_Sales Dept_Technology\n",
       "0           0    HR8270   28  ...               0          0               0\n",
       "1           1  TECH1860   50  ...               0          0               1\n",
       "2           2  TECH6390   43  ...               0          0               1\n",
       "3           3   SAL6191   44  ...               0          1               0\n",
       "4           4    HR6734   33  ...               0          0               0\n",
       "\n",
       "[5 rows x 21 columns]"
      ]
     },
     "execution_count": 181,
     "metadata": {
      "tags": []
     },
     "output_type": "execute_result"
    }
   ],
   "source": [
    "df.head()"
   ]
  },
  {
   "cell_type": "markdown",
   "metadata": {
    "id": "MeTZC0UsqLrc"
   },
   "source": [
    "#### Recruitment Type"
   ]
  },
  {
   "cell_type": "code",
   "execution_count": null,
   "metadata": {
    "id": "wIBxjhXOqRh8"
   },
   "outputs": [],
   "source": [
    "df = pd.get_dummies(data=df, columns=['recruitment_type'])"
   ]
  },
  {
   "cell_type": "code",
   "execution_count": null,
   "metadata": {
    "colab": {
     "base_uri": "https://localhost:8080/",
     "height": 401
    },
    "executionInfo": {
     "elapsed": 880,
     "status": "ok",
     "timestamp": 1604903052001,
     "user": {
      "displayName": "Denny Setia Dwiputra",
      "photoUrl": "https://lh3.googleusercontent.com/a-/AOh14GheQSIjmpXmrulrtnhemFKjsaAPE4APTVVVqNuX0w=s64",
      "userId": "16685659883209092994"
     },
     "user_tz": -420
    },
    "id": "KhcrbmAwrREP",
    "outputId": "22fc584f-a2bf-4f81-f38b-9f05765a0929"
   },
   "outputs": [
    {
     "data": {
      "text/html": [
       "<div>\n",
       "<style scoped>\n",
       "    .dataframe tbody tr th:only-of-type {\n",
       "        vertical-align: middle;\n",
       "    }\n",
       "\n",
       "    .dataframe tbody tr th {\n",
       "        vertical-align: top;\n",
       "    }\n",
       "\n",
       "    .dataframe thead th {\n",
       "        text-align: right;\n",
       "    }\n",
       "</style>\n",
       "<table border=\"1\" class=\"dataframe\">\n",
       "  <thead>\n",
       "    <tr style=\"text-align: right;\">\n",
       "      <th></th>\n",
       "      <th>Unnamed: 0</th>\n",
       "      <th>emp_id</th>\n",
       "      <th>age</th>\n",
       "      <th>location</th>\n",
       "      <th>education</th>\n",
       "      <th>job_level</th>\n",
       "      <th>rating</th>\n",
       "      <th>onsite</th>\n",
       "      <th>awards</th>\n",
       "      <th>certifications</th>\n",
       "      <th>salary</th>\n",
       "      <th>satisfied</th>\n",
       "      <th>retirement</th>\n",
       "      <th>salary_range</th>\n",
       "      <th>salary_bin2</th>\n",
       "      <th>Dept_HR</th>\n",
       "      <th>Dept_Marketing</th>\n",
       "      <th>Dept_Purchasing</th>\n",
       "      <th>Dept_Sales</th>\n",
       "      <th>Dept_Technology</th>\n",
       "      <th>recruitment_type_On-Campus</th>\n",
       "      <th>recruitment_type_Recruitment Agency</th>\n",
       "      <th>recruitment_type_Referral</th>\n",
       "      <th>recruitment_type_Walk-in</th>\n",
       "    </tr>\n",
       "  </thead>\n",
       "  <tbody>\n",
       "    <tr>\n",
       "      <th>0</th>\n",
       "      <td>0</td>\n",
       "      <td>HR8270</td>\n",
       "      <td>28</td>\n",
       "      <td>Suburb</td>\n",
       "      <td>PG</td>\n",
       "      <td>5</td>\n",
       "      <td>2</td>\n",
       "      <td>0</td>\n",
       "      <td>1</td>\n",
       "      <td>0</td>\n",
       "      <td>86750</td>\n",
       "      <td>1</td>\n",
       "      <td>More than Equal 20 Years</td>\n",
       "      <td>High</td>\n",
       "      <td>2</td>\n",
       "      <td>1</td>\n",
       "      <td>0</td>\n",
       "      <td>0</td>\n",
       "      <td>0</td>\n",
       "      <td>0</td>\n",
       "      <td>0</td>\n",
       "      <td>0</td>\n",
       "      <td>1</td>\n",
       "      <td>0</td>\n",
       "    </tr>\n",
       "    <tr>\n",
       "      <th>1</th>\n",
       "      <td>1</td>\n",
       "      <td>TECH1860</td>\n",
       "      <td>50</td>\n",
       "      <td>Suburb</td>\n",
       "      <td>PG</td>\n",
       "      <td>3</td>\n",
       "      <td>5</td>\n",
       "      <td>1</td>\n",
       "      <td>2</td>\n",
       "      <td>1</td>\n",
       "      <td>42419</td>\n",
       "      <td>0</td>\n",
       "      <td>Less Than Equal 10 years</td>\n",
       "      <td>Low</td>\n",
       "      <td>0</td>\n",
       "      <td>0</td>\n",
       "      <td>0</td>\n",
       "      <td>0</td>\n",
       "      <td>0</td>\n",
       "      <td>1</td>\n",
       "      <td>0</td>\n",
       "      <td>0</td>\n",
       "      <td>0</td>\n",
       "      <td>1</td>\n",
       "    </tr>\n",
       "    <tr>\n",
       "      <th>2</th>\n",
       "      <td>2</td>\n",
       "      <td>TECH6390</td>\n",
       "      <td>43</td>\n",
       "      <td>Suburb</td>\n",
       "      <td>UG</td>\n",
       "      <td>4</td>\n",
       "      <td>1</td>\n",
       "      <td>0</td>\n",
       "      <td>2</td>\n",
       "      <td>0</td>\n",
       "      <td>65715</td>\n",
       "      <td>0</td>\n",
       "      <td>More than Equal 10 Years</td>\n",
       "      <td>Medium</td>\n",
       "      <td>1</td>\n",
       "      <td>0</td>\n",
       "      <td>0</td>\n",
       "      <td>0</td>\n",
       "      <td>0</td>\n",
       "      <td>1</td>\n",
       "      <td>0</td>\n",
       "      <td>0</td>\n",
       "      <td>1</td>\n",
       "      <td>0</td>\n",
       "    </tr>\n",
       "    <tr>\n",
       "      <th>3</th>\n",
       "      <td>3</td>\n",
       "      <td>SAL6191</td>\n",
       "      <td>44</td>\n",
       "      <td>City</td>\n",
       "      <td>PG</td>\n",
       "      <td>2</td>\n",
       "      <td>3</td>\n",
       "      <td>1</td>\n",
       "      <td>0</td>\n",
       "      <td>0</td>\n",
       "      <td>29805</td>\n",
       "      <td>1</td>\n",
       "      <td>More than Equal 10 Years</td>\n",
       "      <td>Low</td>\n",
       "      <td>0</td>\n",
       "      <td>0</td>\n",
       "      <td>0</td>\n",
       "      <td>0</td>\n",
       "      <td>1</td>\n",
       "      <td>0</td>\n",
       "      <td>1</td>\n",
       "      <td>0</td>\n",
       "      <td>0</td>\n",
       "      <td>0</td>\n",
       "    </tr>\n",
       "    <tr>\n",
       "      <th>4</th>\n",
       "      <td>4</td>\n",
       "      <td>HR6734</td>\n",
       "      <td>33</td>\n",
       "      <td>City</td>\n",
       "      <td>UG</td>\n",
       "      <td>2</td>\n",
       "      <td>1</td>\n",
       "      <td>0</td>\n",
       "      <td>5</td>\n",
       "      <td>0</td>\n",
       "      <td>29805</td>\n",
       "      <td>1</td>\n",
       "      <td>More than Equal 20 Years</td>\n",
       "      <td>Low</td>\n",
       "      <td>0</td>\n",
       "      <td>1</td>\n",
       "      <td>0</td>\n",
       "      <td>0</td>\n",
       "      <td>0</td>\n",
       "      <td>0</td>\n",
       "      <td>0</td>\n",
       "      <td>1</td>\n",
       "      <td>0</td>\n",
       "      <td>0</td>\n",
       "    </tr>\n",
       "  </tbody>\n",
       "</table>\n",
       "</div>"
      ],
      "text/plain": [
       "   Unnamed: 0    emp_id  ...  recruitment_type_Referral recruitment_type_Walk-in\n",
       "0           0    HR8270  ...                          1                        0\n",
       "1           1  TECH1860  ...                          0                        1\n",
       "2           2  TECH6390  ...                          1                        0\n",
       "3           3   SAL6191  ...                          0                        0\n",
       "4           4    HR6734  ...                          0                        0\n",
       "\n",
       "[5 rows x 24 columns]"
      ]
     },
     "execution_count": 187,
     "metadata": {
      "tags": []
     },
     "output_type": "execute_result"
    }
   ],
   "source": [
    "df.head()"
   ]
  },
  {
   "cell_type": "markdown",
   "metadata": {
    "id": "Uraeq3TRhCUy"
   },
   "source": [
    "### Binning"
   ]
  },
  {
   "cell_type": "markdown",
   "metadata": {
    "id": "i1ivg4e5hTjP"
   },
   "source": [
    "#### Salary"
   ]
  },
  {
   "cell_type": "code",
   "execution_count": null,
   "metadata": {
    "id": "TsPSQT07hYf5"
   },
   "outputs": [],
   "source": [
    "df['salary_bin']=df['salary_range'].map({\n",
    "    'Low':0,\n",
    "    'Medium':1,\n",
    "    'High':2\n",
    "})"
   ]
  },
  {
   "cell_type": "code",
   "execution_count": null,
   "metadata": {
    "id": "3jrwOXP3mtO1"
   },
   "outputs": [],
   "source": [
    "gg =df['salary_bin'].astype(int)\n",
    "df['salary_bin2'] = gg\n",
    "del df['salary_bin']"
   ]
  },
  {
   "cell_type": "code",
   "execution_count": null,
   "metadata": {
    "colab": {
     "base_uri": "https://localhost:8080/"
    },
    "executionInfo": {
     "elapsed": 832,
     "status": "ok",
     "timestamp": 1604902112391,
     "user": {
      "displayName": "Denny Setia Dwiputra",
      "photoUrl": "https://lh3.googleusercontent.com/a-/AOh14GheQSIjmpXmrulrtnhemFKjsaAPE4APTVVVqNuX0w=s64",
      "userId": "16685659883209092994"
     },
     "user_tz": -420
    },
    "id": "HaW-EIjGmzik",
    "outputId": "93b1f7d8-8a95-4857-c40a-09e09d2617a2"
   },
   "outputs": [
    {
     "name": "stdout",
     "output_type": "stream",
     "text": [
      "<class 'pandas.core.frame.DataFrame'>\n",
      "RangeIndex: 500 entries, 0 to 499\n",
      "Data columns (total 17 columns):\n",
      " #   Column            Non-Null Count  Dtype   \n",
      "---  ------            --------------  -----   \n",
      " 0   Unnamed: 0        500 non-null    int64   \n",
      " 1   emp_id            500 non-null    object  \n",
      " 2   age               500 non-null    int64   \n",
      " 3   Dept              500 non-null    object  \n",
      " 4   location          500 non-null    object  \n",
      " 5   education         500 non-null    object  \n",
      " 6   recruitment_type  500 non-null    object  \n",
      " 7   job_level         500 non-null    int64   \n",
      " 8   rating            500 non-null    int64   \n",
      " 9   onsite            500 non-null    int64   \n",
      " 10  awards            500 non-null    int64   \n",
      " 11  certifications    500 non-null    int64   \n",
      " 12  salary            500 non-null    int64   \n",
      " 13  satisfied         500 non-null    int64   \n",
      " 14  retirement        500 non-null    category\n",
      " 15  salary_range      500 non-null    category\n",
      " 16  salary_bin2       500 non-null    int64   \n",
      "dtypes: category(2), int64(10), object(5)\n",
      "memory usage: 60.0+ KB\n"
     ]
    }
   ],
   "source": [
    "df.info()"
   ]
  },
  {
   "cell_type": "markdown",
   "metadata": {
    "id": "PW-ReGvWfu9P"
   },
   "source": [
    "## Checking Correlation\n",
    "\n",
    "Every feature have a low coralation to the target (Satisfied)\n",
    "We will see in the  Machine Learning could predict very well "
   ]
  },
  {
   "cell_type": "code",
   "execution_count": null,
   "metadata": {
    "colab": {
     "base_uri": "https://localhost:8080/",
     "height": 871
    },
    "executionInfo": {
     "elapsed": 2066,
     "status": "ok",
     "timestamp": 1604902181989,
     "user": {
      "displayName": "Denny Setia Dwiputra",
      "photoUrl": "https://lh3.googleusercontent.com/a-/AOh14GheQSIjmpXmrulrtnhemFKjsaAPE4APTVVVqNuX0w=s64",
      "userId": "16685659883209092994"
     },
     "user_tz": -420
    },
    "id": "3eEL1lYCfxJC",
    "outputId": "ce812b72-c235-42a5-867b-9fa2faa6b2f1"
   },
   "outputs": [
    {
     "data": {
      "image/png": "[encoded data removed]",
      "text/plain": [
       "<Figure size 1800x1080 with 2 Axes>"
      ]
     },
     "metadata": {
      "tags": []
     },
     "output_type": "display_data"
    }
   ],
   "source": [
    "corr = df.corr()\n",
    "plt.figure(figsize=(25,15))\n",
    "sns.heatmap(corr, annot=True)\n",
    "plt.show()"
   ]
  },
  {
   "cell_type": "markdown",
   "metadata": {
    "id": "alGqUPYzoSb3"
   },
   "source": [
    "## Cheking Imbalance Data\n",
    ">The Data balanced"
   ]
  },
  {
   "cell_type": "code",
   "execution_count": null,
   "metadata": {
    "colab": {
     "base_uri": "https://localhost:8080/"
    },
    "executionInfo": {
     "elapsed": 804,
     "status": "ok",
     "timestamp": 1604902296657,
     "user": {
      "displayName": "Denny Setia Dwiputra",
      "photoUrl": "https://lh3.googleusercontent.com/a-/AOh14GheQSIjmpXmrulrtnhemFKjsaAPE4APTVVVqNuX0w=s64",
      "userId": "16685659883209092994"
     },
     "user_tz": -420
    },
    "id": "ba3RGXW2fyg0",
    "outputId": "de30a191-0cef-46ba-e5c6-4435d2f1bb95"
   },
   "outputs": [
    {
     "data": {
      "text/plain": [
       "1    52.6\n",
       "0    47.4\n",
       "Name: satisfied, dtype: float64"
      ]
     },
     "execution_count": 178,
     "metadata": {
      "tags": []
     },
     "output_type": "execute_result"
    }
   ],
   "source": [
    "(df['satisfied'].value_counts()/len(df)*100).round(2)"
   ]
  },
  {
   "cell_type": "markdown",
   "metadata": {
    "id": "kPcTZYP7o_Vi"
   },
   "source": [
    "##Feature Seletion"
   ]
  },
  {
   "cell_type": "code",
   "execution_count": null,
   "metadata": {
    "colab": {
     "base_uri": "https://localhost:8080/",
     "height": 401
    },
    "executionInfo": {
     "elapsed": 811,
     "status": "ok",
     "timestamp": 1604903101858,
     "user": {
      "displayName": "Denny Setia Dwiputra",
      "photoUrl": "https://lh3.googleusercontent.com/a-/AOh14GheQSIjmpXmrulrtnhemFKjsaAPE4APTVVVqNuX0w=s64",
      "userId": "16685659883209092994"
     },
     "user_tz": -420
    },
    "id": "sPvWrJEDpJyE",
    "outputId": "810c7844-fe08-499d-a486-5a15bbd5c28f"
   },
   "outputs": [
    {
     "data": {
      "text/html": [
       "<div>\n",
       "<style scoped>\n",
       "    .dataframe tbody tr th:only-of-type {\n",
       "        vertical-align: middle;\n",
       "    }\n",
       "\n",
       "    .dataframe tbody tr th {\n",
       "        vertical-align: top;\n",
       "    }\n",
       "\n",
       "    .dataframe thead th {\n",
       "        text-align: right;\n",
       "    }\n",
       "</style>\n",
       "<table border=\"1\" class=\"dataframe\">\n",
       "  <thead>\n",
       "    <tr style=\"text-align: right;\">\n",
       "      <th></th>\n",
       "      <th>Unnamed: 0</th>\n",
       "      <th>emp_id</th>\n",
       "      <th>age</th>\n",
       "      <th>location</th>\n",
       "      <th>education</th>\n",
       "      <th>job_level</th>\n",
       "      <th>rating</th>\n",
       "      <th>onsite</th>\n",
       "      <th>awards</th>\n",
       "      <th>certifications</th>\n",
       "      <th>salary</th>\n",
       "      <th>satisfied</th>\n",
       "      <th>retirement</th>\n",
       "      <th>salary_range</th>\n",
       "      <th>salary_bin2</th>\n",
       "      <th>Dept_HR</th>\n",
       "      <th>Dept_Marketing</th>\n",
       "      <th>Dept_Purchasing</th>\n",
       "      <th>Dept_Sales</th>\n",
       "      <th>Dept_Technology</th>\n",
       "      <th>recruitment_type_On-Campus</th>\n",
       "      <th>recruitment_type_Recruitment Agency</th>\n",
       "      <th>recruitment_type_Referral</th>\n",
       "      <th>recruitment_type_Walk-in</th>\n",
       "    </tr>\n",
       "  </thead>\n",
       "  <tbody>\n",
       "    <tr>\n",
       "      <th>0</th>\n",
       "      <td>0</td>\n",
       "      <td>HR8270</td>\n",
       "      <td>28</td>\n",
       "      <td>Suburb</td>\n",
       "      <td>PG</td>\n",
       "      <td>5</td>\n",
       "      <td>2</td>\n",
       "      <td>0</td>\n",
       "      <td>1</td>\n",
       "      <td>0</td>\n",
       "      <td>86750</td>\n",
       "      <td>1</td>\n",
       "      <td>More than Equal 20 Years</td>\n",
       "      <td>High</td>\n",
       "      <td>2</td>\n",
       "      <td>1</td>\n",
       "      <td>0</td>\n",
       "      <td>0</td>\n",
       "      <td>0</td>\n",
       "      <td>0</td>\n",
       "      <td>0</td>\n",
       "      <td>0</td>\n",
       "      <td>1</td>\n",
       "      <td>0</td>\n",
       "    </tr>\n",
       "    <tr>\n",
       "      <th>1</th>\n",
       "      <td>1</td>\n",
       "      <td>TECH1860</td>\n",
       "      <td>50</td>\n",
       "      <td>Suburb</td>\n",
       "      <td>PG</td>\n",
       "      <td>3</td>\n",
       "      <td>5</td>\n",
       "      <td>1</td>\n",
       "      <td>2</td>\n",
       "      <td>1</td>\n",
       "      <td>42419</td>\n",
       "      <td>0</td>\n",
       "      <td>Less Than Equal 10 years</td>\n",
       "      <td>Low</td>\n",
       "      <td>0</td>\n",
       "      <td>0</td>\n",
       "      <td>0</td>\n",
       "      <td>0</td>\n",
       "      <td>0</td>\n",
       "      <td>1</td>\n",
       "      <td>0</td>\n",
       "      <td>0</td>\n",
       "      <td>0</td>\n",
       "      <td>1</td>\n",
       "    </tr>\n",
       "    <tr>\n",
       "      <th>2</th>\n",
       "      <td>2</td>\n",
       "      <td>TECH6390</td>\n",
       "      <td>43</td>\n",
       "      <td>Suburb</td>\n",
       "      <td>UG</td>\n",
       "      <td>4</td>\n",
       "      <td>1</td>\n",
       "      <td>0</td>\n",
       "      <td>2</td>\n",
       "      <td>0</td>\n",
       "      <td>65715</td>\n",
       "      <td>0</td>\n",
       "      <td>More than Equal 10 Years</td>\n",
       "      <td>Medium</td>\n",
       "      <td>1</td>\n",
       "      <td>0</td>\n",
       "      <td>0</td>\n",
       "      <td>0</td>\n",
       "      <td>0</td>\n",
       "      <td>1</td>\n",
       "      <td>0</td>\n",
       "      <td>0</td>\n",
       "      <td>1</td>\n",
       "      <td>0</td>\n",
       "    </tr>\n",
       "    <tr>\n",
       "      <th>3</th>\n",
       "      <td>3</td>\n",
       "      <td>SAL6191</td>\n",
       "      <td>44</td>\n",
       "      <td>City</td>\n",
       "      <td>PG</td>\n",
       "      <td>2</td>\n",
       "      <td>3</td>\n",
       "      <td>1</td>\n",
       "      <td>0</td>\n",
       "      <td>0</td>\n",
       "      <td>29805</td>\n",
       "      <td>1</td>\n",
       "      <td>More than Equal 10 Years</td>\n",
       "      <td>Low</td>\n",
       "      <td>0</td>\n",
       "      <td>0</td>\n",
       "      <td>0</td>\n",
       "      <td>0</td>\n",
       "      <td>1</td>\n",
       "      <td>0</td>\n",
       "      <td>1</td>\n",
       "      <td>0</td>\n",
       "      <td>0</td>\n",
       "      <td>0</td>\n",
       "    </tr>\n",
       "    <tr>\n",
       "      <th>4</th>\n",
       "      <td>4</td>\n",
       "      <td>HR6734</td>\n",
       "      <td>33</td>\n",
       "      <td>City</td>\n",
       "      <td>UG</td>\n",
       "      <td>2</td>\n",
       "      <td>1</td>\n",
       "      <td>0</td>\n",
       "      <td>5</td>\n",
       "      <td>0</td>\n",
       "      <td>29805</td>\n",
       "      <td>1</td>\n",
       "      <td>More than Equal 20 Years</td>\n",
       "      <td>Low</td>\n",
       "      <td>0</td>\n",
       "      <td>1</td>\n",
       "      <td>0</td>\n",
       "      <td>0</td>\n",
       "      <td>0</td>\n",
       "      <td>0</td>\n",
       "      <td>0</td>\n",
       "      <td>1</td>\n",
       "      <td>0</td>\n",
       "      <td>0</td>\n",
       "    </tr>\n",
       "  </tbody>\n",
       "</table>\n",
       "</div>"
      ],
      "text/plain": [
       "   Unnamed: 0    emp_id  ...  recruitment_type_Referral recruitment_type_Walk-in\n",
       "0           0    HR8270  ...                          1                        0\n",
       "1           1  TECH1860  ...                          0                        1\n",
       "2           2  TECH6390  ...                          1                        0\n",
       "3           3   SAL6191  ...                          0                        0\n",
       "4           4    HR6734  ...                          0                        0\n",
       "\n",
       "[5 rows x 24 columns]"
      ]
     },
     "execution_count": 188,
     "metadata": {
      "tags": []
     },
     "output_type": "execute_result"
    }
   ],
   "source": [
    "#df['Unnamed: 0']\n",
    "df.head()"
   ]
  },
  {
   "cell_type": "code",
   "execution_count": null,
   "metadata": {
    "id": "-hJgNY68rbIf"
   },
   "outputs": [],
   "source": [
    "df.drop(columns=['Unnamed: 0','emp_id','location','retirement','salary_range'],inplace=True)\n",
    "df.drop(columns=['education'],inplace=True)"
   ]
  },
  {
   "cell_type": "code",
   "execution_count": null,
   "metadata": {
    "colab": {
     "base_uri": "https://localhost:8080/",
     "height": 234
    },
    "executionInfo": {
     "elapsed": 842,
     "status": "ok",
     "timestamp": 1604903217858,
     "user": {
      "displayName": "Denny Setia Dwiputra",
      "photoUrl": "https://lh3.googleusercontent.com/a-/AOh14GheQSIjmpXmrulrtnhemFKjsaAPE4APTVVVqNuX0w=s64",
      "userId": "16685659883209092994"
     },
     "user_tz": -420
    },
    "id": "MQdtYy-trwe4",
    "outputId": "3cf24657-6933-4dde-e5b6-46f2bc1842ee"
   },
   "outputs": [
    {
     "data": {
      "text/html": [
       "<div>\n",
       "<style scoped>\n",
       "    .dataframe tbody tr th:only-of-type {\n",
       "        vertical-align: middle;\n",
       "    }\n",
       "\n",
       "    .dataframe tbody tr th {\n",
       "        vertical-align: top;\n",
       "    }\n",
       "\n",
       "    .dataframe thead th {\n",
       "        text-align: right;\n",
       "    }\n",
       "</style>\n",
       "<table border=\"1\" class=\"dataframe\">\n",
       "  <thead>\n",
       "    <tr style=\"text-align: right;\">\n",
       "      <th></th>\n",
       "      <th>age</th>\n",
       "      <th>job_level</th>\n",
       "      <th>rating</th>\n",
       "      <th>onsite</th>\n",
       "      <th>awards</th>\n",
       "      <th>certifications</th>\n",
       "      <th>salary</th>\n",
       "      <th>satisfied</th>\n",
       "      <th>salary_bin2</th>\n",
       "      <th>Dept_HR</th>\n",
       "      <th>Dept_Marketing</th>\n",
       "      <th>Dept_Purchasing</th>\n",
       "      <th>Dept_Sales</th>\n",
       "      <th>Dept_Technology</th>\n",
       "      <th>recruitment_type_On-Campus</th>\n",
       "      <th>recruitment_type_Recruitment Agency</th>\n",
       "      <th>recruitment_type_Referral</th>\n",
       "      <th>recruitment_type_Walk-in</th>\n",
       "    </tr>\n",
       "  </thead>\n",
       "  <tbody>\n",
       "    <tr>\n",
       "      <th>0</th>\n",
       "      <td>28</td>\n",
       "      <td>5</td>\n",
       "      <td>2</td>\n",
       "      <td>0</td>\n",
       "      <td>1</td>\n",
       "      <td>0</td>\n",
       "      <td>86750</td>\n",
       "      <td>1</td>\n",
       "      <td>2</td>\n",
       "      <td>1</td>\n",
       "      <td>0</td>\n",
       "      <td>0</td>\n",
       "      <td>0</td>\n",
       "      <td>0</td>\n",
       "      <td>0</td>\n",
       "      <td>0</td>\n",
       "      <td>1</td>\n",
       "      <td>0</td>\n",
       "    </tr>\n",
       "    <tr>\n",
       "      <th>1</th>\n",
       "      <td>50</td>\n",
       "      <td>3</td>\n",
       "      <td>5</td>\n",
       "      <td>1</td>\n",
       "      <td>2</td>\n",
       "      <td>1</td>\n",
       "      <td>42419</td>\n",
       "      <td>0</td>\n",
       "      <td>0</td>\n",
       "      <td>0</td>\n",
       "      <td>0</td>\n",
       "      <td>0</td>\n",
       "      <td>0</td>\n",
       "      <td>1</td>\n",
       "      <td>0</td>\n",
       "      <td>0</td>\n",
       "      <td>0</td>\n",
       "      <td>1</td>\n",
       "    </tr>\n",
       "    <tr>\n",
       "      <th>2</th>\n",
       "      <td>43</td>\n",
       "      <td>4</td>\n",
       "      <td>1</td>\n",
       "      <td>0</td>\n",
       "      <td>2</td>\n",
       "      <td>0</td>\n",
       "      <td>65715</td>\n",
       "      <td>0</td>\n",
       "      <td>1</td>\n",
       "      <td>0</td>\n",
       "      <td>0</td>\n",
       "      <td>0</td>\n",
       "      <td>0</td>\n",
       "      <td>1</td>\n",
       "      <td>0</td>\n",
       "      <td>0</td>\n",
       "      <td>1</td>\n",
       "      <td>0</td>\n",
       "    </tr>\n",
       "    <tr>\n",
       "      <th>3</th>\n",
       "      <td>44</td>\n",
       "      <td>2</td>\n",
       "      <td>3</td>\n",
       "      <td>1</td>\n",
       "      <td>0</td>\n",
       "      <td>0</td>\n",
       "      <td>29805</td>\n",
       "      <td>1</td>\n",
       "      <td>0</td>\n",
       "      <td>0</td>\n",
       "      <td>0</td>\n",
       "      <td>0</td>\n",
       "      <td>1</td>\n",
       "      <td>0</td>\n",
       "      <td>1</td>\n",
       "      <td>0</td>\n",
       "      <td>0</td>\n",
       "      <td>0</td>\n",
       "    </tr>\n",
       "    <tr>\n",
       "      <th>4</th>\n",
       "      <td>33</td>\n",
       "      <td>2</td>\n",
       "      <td>1</td>\n",
       "      <td>0</td>\n",
       "      <td>5</td>\n",
       "      <td>0</td>\n",
       "      <td>29805</td>\n",
       "      <td>1</td>\n",
       "      <td>0</td>\n",
       "      <td>1</td>\n",
       "      <td>0</td>\n",
       "      <td>0</td>\n",
       "      <td>0</td>\n",
       "      <td>0</td>\n",
       "      <td>0</td>\n",
       "      <td>1</td>\n",
       "      <td>0</td>\n",
       "      <td>0</td>\n",
       "    </tr>\n",
       "  </tbody>\n",
       "</table>\n",
       "</div>"
      ],
      "text/plain": [
       "   age  job_level  ...  recruitment_type_Referral  recruitment_type_Walk-in\n",
       "0   28          5  ...                          1                         0\n",
       "1   50          3  ...                          0                         1\n",
       "2   43          4  ...                          1                         0\n",
       "3   44          2  ...                          0                         0\n",
       "4   33          2  ...                          0                         0\n",
       "\n",
       "[5 rows x 18 columns]"
      ]
     },
     "execution_count": 192,
     "metadata": {
      "tags": []
     },
     "output_type": "execute_result"
    }
   ],
   "source": [
    "df.head()"
   ]
  },
  {
   "cell_type": "markdown",
   "metadata": {
    "id": "eMlhP7BpsDU4"
   },
   "source": [
    "## Machine Learning Process"
   ]
  },
  {
   "cell_type": "markdown",
   "metadata": {
    "id": "why-k5FnsgF0"
   },
   "source": [
    "### Train test data"
   ]
  },
  {
   "cell_type": "code",
   "execution_count": null,
   "metadata": {
    "id": "xh0i2UUFslIi"
   },
   "outputs": [],
   "source": [
    "from sklearn.model_selection import train_test_split"
   ]
  },
  {
   "cell_type": "code",
   "execution_count": null,
   "metadata": {
    "id": "DJrY34IhsiOW"
   },
   "outputs": [],
   "source": [
    "X = df.drop(columns='satisfied')\n",
    "y = df['satisfied'] #kolom target"
   ]
  },
  {
   "cell_type": "code",
   "execution_count": null,
   "metadata": {
    "colab": {
     "base_uri": "https://localhost:8080/",
     "height": 443
    },
    "executionInfo": {
     "elapsed": 1081,
     "status": "ok",
     "timestamp": 1604903709875,
     "user": {
      "displayName": "Denny Setia Dwiputra",
      "photoUrl": "https://lh3.googleusercontent.com/a-/AOh14GheQSIjmpXmrulrtnhemFKjsaAPE4APTVVVqNuX0w=s64",
      "userId": "16685659883209092994"
     },
     "user_tz": -420
    },
    "id": "Ol5Pz6bPtx2z",
    "outputId": "372bde7d-372e-41a0-a51b-17f19836cc18"
   },
   "outputs": [
    {
     "data": {
      "text/html": [
       "<div>\n",
       "<style scoped>\n",
       "    .dataframe tbody tr th:only-of-type {\n",
       "        vertical-align: middle;\n",
       "    }\n",
       "\n",
       "    .dataframe tbody tr th {\n",
       "        vertical-align: top;\n",
       "    }\n",
       "\n",
       "    .dataframe thead th {\n",
       "        text-align: right;\n",
       "    }\n",
       "</style>\n",
       "<table border=\"1\" class=\"dataframe\">\n",
       "  <thead>\n",
       "    <tr style=\"text-align: right;\">\n",
       "      <th></th>\n",
       "      <th>age</th>\n",
       "      <th>job_level</th>\n",
       "      <th>rating</th>\n",
       "      <th>onsite</th>\n",
       "      <th>awards</th>\n",
       "      <th>certifications</th>\n",
       "      <th>salary</th>\n",
       "      <th>salary_bin2</th>\n",
       "      <th>Dept_HR</th>\n",
       "      <th>Dept_Marketing</th>\n",
       "      <th>Dept_Purchasing</th>\n",
       "      <th>Dept_Sales</th>\n",
       "      <th>Dept_Technology</th>\n",
       "      <th>recruitment_type_On-Campus</th>\n",
       "      <th>recruitment_type_Recruitment Agency</th>\n",
       "      <th>recruitment_type_Referral</th>\n",
       "      <th>recruitment_type_Walk-in</th>\n",
       "    </tr>\n",
       "  </thead>\n",
       "  <tbody>\n",
       "    <tr>\n",
       "      <th>0</th>\n",
       "      <td>28</td>\n",
       "      <td>5</td>\n",
       "      <td>2</td>\n",
       "      <td>0</td>\n",
       "      <td>1</td>\n",
       "      <td>0</td>\n",
       "      <td>86750</td>\n",
       "      <td>2</td>\n",
       "      <td>1</td>\n",
       "      <td>0</td>\n",
       "      <td>0</td>\n",
       "      <td>0</td>\n",
       "      <td>0</td>\n",
       "      <td>0</td>\n",
       "      <td>0</td>\n",
       "      <td>1</td>\n",
       "      <td>0</td>\n",
       "    </tr>\n",
       "    <tr>\n",
       "      <th>1</th>\n",
       "      <td>50</td>\n",
       "      <td>3</td>\n",
       "      <td>5</td>\n",
       "      <td>1</td>\n",
       "      <td>2</td>\n",
       "      <td>1</td>\n",
       "      <td>42419</td>\n",
       "      <td>0</td>\n",
       "      <td>0</td>\n",
       "      <td>0</td>\n",
       "      <td>0</td>\n",
       "      <td>0</td>\n",
       "      <td>1</td>\n",
       "      <td>0</td>\n",
       "      <td>0</td>\n",
       "      <td>0</td>\n",
       "      <td>1</td>\n",
       "    </tr>\n",
       "    <tr>\n",
       "      <th>2</th>\n",
       "      <td>43</td>\n",
       "      <td>4</td>\n",
       "      <td>1</td>\n",
       "      <td>0</td>\n",
       "      <td>2</td>\n",
       "      <td>0</td>\n",
       "      <td>65715</td>\n",
       "      <td>1</td>\n",
       "      <td>0</td>\n",
       "      <td>0</td>\n",
       "      <td>0</td>\n",
       "      <td>0</td>\n",
       "      <td>1</td>\n",
       "      <td>0</td>\n",
       "      <td>0</td>\n",
       "      <td>1</td>\n",
       "      <td>0</td>\n",
       "    </tr>\n",
       "    <tr>\n",
       "      <th>3</th>\n",
       "      <td>44</td>\n",
       "      <td>2</td>\n",
       "      <td>3</td>\n",
       "      <td>1</td>\n",
       "      <td>0</td>\n",
       "      <td>0</td>\n",
       "      <td>29805</td>\n",
       "      <td>0</td>\n",
       "      <td>0</td>\n",
       "      <td>0</td>\n",
       "      <td>0</td>\n",
       "      <td>1</td>\n",
       "      <td>0</td>\n",
       "      <td>1</td>\n",
       "      <td>0</td>\n",
       "      <td>0</td>\n",
       "      <td>0</td>\n",
       "    </tr>\n",
       "    <tr>\n",
       "      <th>4</th>\n",
       "      <td>33</td>\n",
       "      <td>2</td>\n",
       "      <td>1</td>\n",
       "      <td>0</td>\n",
       "      <td>5</td>\n",
       "      <td>0</td>\n",
       "      <td>29805</td>\n",
       "      <td>0</td>\n",
       "      <td>1</td>\n",
       "      <td>0</td>\n",
       "      <td>0</td>\n",
       "      <td>0</td>\n",
       "      <td>0</td>\n",
       "      <td>0</td>\n",
       "      <td>1</td>\n",
       "      <td>0</td>\n",
       "      <td>0</td>\n",
       "    </tr>\n",
       "    <tr>\n",
       "      <th>...</th>\n",
       "      <td>...</td>\n",
       "      <td>...</td>\n",
       "      <td>...</td>\n",
       "      <td>...</td>\n",
       "      <td>...</td>\n",
       "      <td>...</td>\n",
       "      <td>...</td>\n",
       "      <td>...</td>\n",
       "      <td>...</td>\n",
       "      <td>...</td>\n",
       "      <td>...</td>\n",
       "      <td>...</td>\n",
       "      <td>...</td>\n",
       "      <td>...</td>\n",
       "      <td>...</td>\n",
       "      <td>...</td>\n",
       "      <td>...</td>\n",
       "    </tr>\n",
       "    <tr>\n",
       "      <th>495</th>\n",
       "      <td>49</td>\n",
       "      <td>2</td>\n",
       "      <td>5</td>\n",
       "      <td>0</td>\n",
       "      <td>6</td>\n",
       "      <td>0</td>\n",
       "      <td>29805</td>\n",
       "      <td>0</td>\n",
       "      <td>1</td>\n",
       "      <td>0</td>\n",
       "      <td>0</td>\n",
       "      <td>0</td>\n",
       "      <td>0</td>\n",
       "      <td>1</td>\n",
       "      <td>0</td>\n",
       "      <td>0</td>\n",
       "      <td>0</td>\n",
       "    </tr>\n",
       "    <tr>\n",
       "      <th>496</th>\n",
       "      <td>24</td>\n",
       "      <td>2</td>\n",
       "      <td>4</td>\n",
       "      <td>0</td>\n",
       "      <td>2</td>\n",
       "      <td>0</td>\n",
       "      <td>29805</td>\n",
       "      <td>0</td>\n",
       "      <td>0</td>\n",
       "      <td>0</td>\n",
       "      <td>0</td>\n",
       "      <td>0</td>\n",
       "      <td>1</td>\n",
       "      <td>0</td>\n",
       "      <td>0</td>\n",
       "      <td>1</td>\n",
       "      <td>0</td>\n",
       "    </tr>\n",
       "    <tr>\n",
       "      <th>497</th>\n",
       "      <td>34</td>\n",
       "      <td>1</td>\n",
       "      <td>3</td>\n",
       "      <td>0</td>\n",
       "      <td>2</td>\n",
       "      <td>0</td>\n",
       "      <td>24076</td>\n",
       "      <td>0</td>\n",
       "      <td>0</td>\n",
       "      <td>1</td>\n",
       "      <td>0</td>\n",
       "      <td>0</td>\n",
       "      <td>0</td>\n",
       "      <td>1</td>\n",
       "      <td>0</td>\n",
       "      <td>0</td>\n",
       "      <td>0</td>\n",
       "    </tr>\n",
       "    <tr>\n",
       "      <th>498</th>\n",
       "      <td>26</td>\n",
       "      <td>2</td>\n",
       "      <td>1</td>\n",
       "      <td>1</td>\n",
       "      <td>1</td>\n",
       "      <td>1</td>\n",
       "      <td>29805</td>\n",
       "      <td>0</td>\n",
       "      <td>0</td>\n",
       "      <td>0</td>\n",
       "      <td>0</td>\n",
       "      <td>0</td>\n",
       "      <td>1</td>\n",
       "      <td>1</td>\n",
       "      <td>0</td>\n",
       "      <td>0</td>\n",
       "      <td>0</td>\n",
       "    </tr>\n",
       "    <tr>\n",
       "      <th>499</th>\n",
       "      <td>26</td>\n",
       "      <td>3</td>\n",
       "      <td>4</td>\n",
       "      <td>0</td>\n",
       "      <td>3</td>\n",
       "      <td>0</td>\n",
       "      <td>42419</td>\n",
       "      <td>0</td>\n",
       "      <td>0</td>\n",
       "      <td>0</td>\n",
       "      <td>0</td>\n",
       "      <td>0</td>\n",
       "      <td>1</td>\n",
       "      <td>0</td>\n",
       "      <td>1</td>\n",
       "      <td>0</td>\n",
       "      <td>0</td>\n",
       "    </tr>\n",
       "  </tbody>\n",
       "</table>\n",
       "<p>500 rows × 17 columns</p>\n",
       "</div>"
      ],
      "text/plain": [
       "     age  job_level  ...  recruitment_type_Referral  recruitment_type_Walk-in\n",
       "0     28          5  ...                          1                         0\n",
       "1     50          3  ...                          0                         1\n",
       "2     43          4  ...                          1                         0\n",
       "3     44          2  ...                          0                         0\n",
       "4     33          2  ...                          0                         0\n",
       "..   ...        ...  ...                        ...                       ...\n",
       "495   49          2  ...                          0                         0\n",
       "496   24          2  ...                          1                         0\n",
       "497   34          1  ...                          0                         0\n",
       "498   26          2  ...                          0                         0\n",
       "499   26          3  ...                          0                         0\n",
       "\n",
       "[500 rows x 17 columns]"
      ]
     },
     "execution_count": 220,
     "metadata": {
      "tags": []
     },
     "output_type": "execute_result"
    }
   ],
   "source": [
    "X"
   ]
  },
  {
   "cell_type": "code",
   "execution_count": null,
   "metadata": {
    "id": "4_9x27pTs2g6"
   },
   "outputs": [],
   "source": [
    "X_train,X_test,y_train,y_test = train_test_split(X,y, train_size = .8, stratify = y,random_state =42)"
   ]
  },
  {
   "cell_type": "markdown",
   "metadata": {
    "id": "jYQZChr4sY-j"
   },
   "source": [
    "### Logistic Regression"
   ]
  },
  {
   "cell_type": "code",
   "execution_count": null,
   "metadata": {
    "id": "mtL7vCmUryPp"
   },
   "outputs": [],
   "source": [
    "from sklearn.linear_model import LogisticRegression"
   ]
  },
  {
   "cell_type": "code",
   "execution_count": null,
   "metadata": {
    "colab": {
     "base_uri": "https://localhost:8080/"
    },
    "executionInfo": {
     "elapsed": 832,
     "status": "ok",
     "timestamp": 1604903495732,
     "user": {
      "displayName": "Denny Setia Dwiputra",
      "photoUrl": "https://lh3.googleusercontent.com/a-/AOh14GheQSIjmpXmrulrtnhemFKjsaAPE4APTVVVqNuX0w=s64",
      "userId": "16685659883209092994"
     },
     "user_tz": -420
    },
    "id": "Osi2_bLQsCTR",
    "outputId": "3ccf065a-d848-49de-8d74-365c3c8570c1"
   },
   "outputs": [
    {
     "data": {
      "text/plain": [
       "array([1, 1, 1, 1, 1, 1, 1, 1, 1, 1, 1, 1, 1, 1, 1, 1, 1, 1, 1, 1, 1, 1,\n",
       "       1, 1, 1, 1, 1, 1, 1, 1, 1, 1, 1, 1, 1, 1, 1, 1, 1, 1, 1, 1, 1, 1,\n",
       "       1, 1, 1, 1, 1, 1, 1, 1, 1, 1, 1, 1, 1, 1, 1, 1, 1, 1, 1, 1, 1, 1,\n",
       "       1, 1, 1, 1, 1, 1, 1, 1, 1, 1, 1, 1, 1, 1, 1, 1, 1, 1, 1, 1, 1, 1,\n",
       "       1, 1, 1, 1, 1, 1, 1, 1, 1, 1, 1, 1])"
      ]
     },
     "execution_count": 199,
     "metadata": {
      "tags": []
     },
     "output_type": "execute_result"
    }
   ],
   "source": [
    "modelLog=LogisticRegression()\n",
    "modelLog.fit(X_train,y_train)\n",
    "modelLog.predict(X_test)"
   ]
  },
  {
   "cell_type": "code",
   "execution_count": null,
   "metadata": {
    "id": "Km9ic3zrs-Sg"
   },
   "outputs": [],
   "source": [
    "from sklearn.metrics import classification_report, confusion_matrix, recall_score,f1_score,accuracy_score,precision_score,roc_auc_score"
   ]
  },
  {
   "cell_type": "code",
   "execution_count": null,
   "metadata": {
    "id": "l3JloX5zs_Q2"
   },
   "outputs": [],
   "source": [
    "y_pred = modelLog.predict(X_test)"
   ]
  },
  {
   "cell_type": "code",
   "execution_count": null,
   "metadata": {
    "colab": {
     "base_uri": "https://localhost:8080/"
    },
    "executionInfo": {
     "elapsed": 883,
     "status": "ok",
     "timestamp": 1604903517324,
     "user": {
      "displayName": "Denny Setia Dwiputra",
      "photoUrl": "https://lh3.googleusercontent.com/a-/AOh14GheQSIjmpXmrulrtnhemFKjsaAPE4APTVVVqNuX0w=s64",
      "userId": "16685659883209092994"
     },
     "user_tz": -420
    },
    "id": "lLtjaLdvtB0D",
    "outputId": "53aabf60-8a5e-44d0-d2de-463b8c89124b"
   },
   "outputs": [
    {
     "name": "stdout",
     "output_type": "stream",
     "text": [
      "Train Accuracy: 0.52\n",
      "Test Accuracy: 0.53\n"
     ]
    }
   ],
   "source": [
    "print(\"Train Accuracy:\",modelLog.score(X_train, y_train).round(2))\n",
    "print(\"Test Accuracy:\",modelLog.score(X_test, y_test).round(2))"
   ]
  },
  {
   "cell_type": "code",
   "execution_count": null,
   "metadata": {
    "colab": {
     "base_uri": "https://localhost:8080/"
    },
    "executionInfo": {
     "elapsed": 897,
     "status": "ok",
     "timestamp": 1604903525354,
     "user": {
      "displayName": "Denny Setia Dwiputra",
      "photoUrl": "https://lh3.googleusercontent.com/a-/AOh14GheQSIjmpXmrulrtnhemFKjsaAPE4APTVVVqNuX0w=s64",
      "userId": "16685659883209092994"
     },
     "user_tz": -420
    },
    "id": "MgrXf8brtDjK",
    "outputId": "ae4fd67a-4ef0-4888-c04b-0eaf4c8ac319"
   },
   "outputs": [
    {
     "name": "stdout",
     "output_type": "stream",
     "text": [
      "              precision    recall  f1-score   support\n",
      "\n",
      "           0       0.00      0.00      0.00        47\n",
      "           1       0.53      1.00      0.69        53\n",
      "\n",
      "    accuracy                           0.53       100\n",
      "   macro avg       0.27      0.50      0.35       100\n",
      "weighted avg       0.28      0.53      0.37       100\n",
      "\n"
     ]
    }
   ],
   "source": [
    "print(classification_report(y_test,y_pred))"
   ]
  },
  {
   "cell_type": "markdown",
   "metadata": {
    "id": "IxFRLiJ86E29"
   },
   "source": [
    "> This classification report, is Recall higher than precision, which mean this is bad result because we want to focus on precision"
   ]
  },
  {
   "cell_type": "markdown",
   "metadata": {
    "id": "TnZGgLRUtWQs"
   },
   "source": [
    "### SVC"
   ]
  },
  {
   "cell_type": "code",
   "execution_count": null,
   "metadata": {
    "id": "TlrRty2VtXKJ"
   },
   "outputs": [],
   "source": [
    "from sklearn.svm import SVC"
   ]
  },
  {
   "cell_type": "code",
   "execution_count": null,
   "metadata": {
    "colab": {
     "base_uri": "https://localhost:8080/"
    },
    "executionInfo": {
     "elapsed": 1102,
     "status": "ok",
     "timestamp": 1604904875559,
     "user": {
      "displayName": "Denny Setia Dwiputra",
      "photoUrl": "https://lh3.googleusercontent.com/a-/AOh14GheQSIjmpXmrulrtnhemFKjsaAPE4APTVVVqNuX0w=s64",
      "userId": "16685659883209092994"
     },
     "user_tz": -420
    },
    "id": "d7GGnBJ9tXpm",
    "outputId": "523a30b5-7564-47e3-e1cc-5f2c49f7998c"
   },
   "outputs": [
    {
     "data": {
      "text/plain": [
       "SVC(C=1.0, break_ties=False, cache_size=200, class_weight=None, coef0=0.0,\n",
       "    decision_function_shape='ovr', degree=3, gamma='scale', kernel='linear',\n",
       "    max_iter=300, probability=False, random_state=0, shrinking=True, tol=0.001,\n",
       "    verbose=False)"
      ]
     },
     "execution_count": 341,
     "metadata": {
      "tags": []
     },
     "output_type": "execute_result"
    }
   ],
   "source": [
    "classifier = SVC(kernel='linear',max_iter=300, random_state = 0) #max iter --> makin besar nilainya makin lama\n",
    "classifier.fit(X_train,y_train)"
   ]
  },
  {
   "cell_type": "code",
   "execution_count": null,
   "metadata": {
    "id": "f0kj3Bf2tZtX"
   },
   "outputs": [],
   "source": [
    "# Predicting the Test set results\n",
    "y_SVC = classifier.predict(X_test)"
   ]
  },
  {
   "cell_type": "code",
   "execution_count": null,
   "metadata": {
    "colab": {
     "base_uri": "https://localhost:8080/"
    },
    "executionInfo": {
     "elapsed": 614,
     "status": "ok",
     "timestamp": 1604904875562,
     "user": {
      "displayName": "Denny Setia Dwiputra",
      "photoUrl": "https://lh3.googleusercontent.com/a-/AOh14GheQSIjmpXmrulrtnhemFKjsaAPE4APTVVVqNuX0w=s64",
      "userId": "16685659883209092994"
     },
     "user_tz": -420
    },
    "id": "hDdGDt4Vtcyj",
    "outputId": "ef8b3b0f-fe1c-42f4-aa22-3b4816d0a4f6"
   },
   "outputs": [
    {
     "name": "stdout",
     "output_type": "stream",
     "text": [
      "Train Accuracy: 0.48\n",
      "Test Accuracy: 0.54\n"
     ]
    }
   ],
   "source": [
    "print(\"Train Accuracy:\",classifier.score(X_train, y_train).round(2))\n",
    "print(\"Test Accuracy:\",classifier.score(X_test, y_test).round(2))"
   ]
  },
  {
   "cell_type": "code",
   "execution_count": null,
   "metadata": {
    "colab": {
     "base_uri": "https://localhost:8080/"
    },
    "executionInfo": {
     "elapsed": 711,
     "status": "ok",
     "timestamp": 1604904875927,
     "user": {
      "displayName": "Denny Setia Dwiputra",
      "photoUrl": "https://lh3.googleusercontent.com/a-/AOh14GheQSIjmpXmrulrtnhemFKjsaAPE4APTVVVqNuX0w=s64",
      "userId": "16685659883209092994"
     },
     "user_tz": -420
    },
    "id": "36msT0X2teGM",
    "outputId": "b63dd8f1-4518-4ba5-a3b2-e8a6e083600c"
   },
   "outputs": [
    {
     "name": "stdout",
     "output_type": "stream",
     "text": [
      "              precision    recall  f1-score   support\n",
      "\n",
      "           0       0.51      0.53      0.52        47\n",
      "           1       0.57      0.55      0.56        53\n",
      "\n",
      "    accuracy                           0.54       100\n",
      "   macro avg       0.54      0.54      0.54       100\n",
      "weighted avg       0.54      0.54      0.54       100\n",
      "\n"
     ]
    }
   ],
   "source": [
    "print(classification_report(y_test,y_SVC))"
   ]
  },
  {
   "cell_type": "markdown",
   "metadata": {
    "id": "zsYSY9UE6WjG"
   },
   "source": [
    "> This classification report, is Precision higher than recall, which mean this is **BEST** result because we want to focus on precision"
   ]
  },
  {
   "cell_type": "markdown",
   "metadata": {
    "id": "JaJ3bKM6v92Z"
   },
   "source": [
    "### Random Forest"
   ]
  },
  {
   "cell_type": "code",
   "execution_count": null,
   "metadata": {
    "id": "Nm1fn5MnuAV5"
   },
   "outputs": [],
   "source": [
    "from sklearn.ensemble import RandomForestClassifier"
   ]
  },
  {
   "cell_type": "code",
   "execution_count": null,
   "metadata": {
    "colab": {
     "base_uri": "https://localhost:8080/"
    },
    "executionInfo": {
     "elapsed": 838,
     "status": "ok",
     "timestamp": 1604904815003,
     "user": {
      "displayName": "Denny Setia Dwiputra",
      "photoUrl": "https://lh3.googleusercontent.com/a-/AOh14GheQSIjmpXmrulrtnhemFKjsaAPE4APTVVVqNuX0w=s64",
      "userId": "16685659883209092994"
     },
     "user_tz": -420
    },
    "id": "RV3Uhx2DwFk7",
    "outputId": "8853e56c-7db9-4e4a-c0e2-e881d8d2fe97"
   },
   "outputs": [
    {
     "data": {
      "text/plain": [
       "RandomForestClassifier(bootstrap=True, ccp_alpha=0.0, class_weight=None,\n",
       "                       criterion='gini', max_depth=10, max_features='auto',\n",
       "                       max_leaf_nodes=None, max_samples=None,\n",
       "                       min_impurity_decrease=0.0, min_impurity_split=None,\n",
       "                       min_samples_leaf=70, min_samples_split=90,\n",
       "                       min_weight_fraction_leaf=0.0, n_estimators=100,\n",
       "                       n_jobs=None, oob_score=False, random_state=42, verbose=0,\n",
       "                       warm_start=False)"
      ]
     },
     "execution_count": 325,
     "metadata": {
      "tags": []
     },
     "output_type": "execute_result"
    }
   ],
   "source": [
    "rf = RandomForestClassifier(max_depth=10, random_state=42,min_samples_split=90,min_samples_leaf=70) #12 best so far\n",
    "rf.fit(X_train,y_train)"
   ]
  },
  {
   "cell_type": "code",
   "execution_count": null,
   "metadata": {
    "id": "3YfPZExTwHqq"
   },
   "outputs": [],
   "source": [
    "y_rf = rf.predict(X_test)"
   ]
  },
  {
   "cell_type": "code",
   "execution_count": null,
   "metadata": {
    "colab": {
     "base_uri": "https://localhost:8080/"
    },
    "executionInfo": {
     "elapsed": 654,
     "status": "ok",
     "timestamp": 1604904817042,
     "user": {
      "displayName": "Denny Setia Dwiputra",
      "photoUrl": "https://lh3.googleusercontent.com/a-/AOh14GheQSIjmpXmrulrtnhemFKjsaAPE4APTVVVqNuX0w=s64",
      "userId": "16685659883209092994"
     },
     "user_tz": -420
    },
    "id": "1QcLR2AQw-n9",
    "outputId": "1d2d755a-edd0-4858-f4b2-f838e1d8f7fd"
   },
   "outputs": [
    {
     "name": "stdout",
     "output_type": "stream",
     "text": [
      "Train Accuracy: 0.56\n",
      "Test Accuracy: 0.5\n"
     ]
    }
   ],
   "source": [
    "print(\"Train Accuracy:\",rf.score(X_train, y_train).round(2))\n",
    "print(\"Test Accuracy:\",rf.score(X_test, y_test).round(2))"
   ]
  },
  {
   "cell_type": "code",
   "execution_count": null,
   "metadata": {
    "colab": {
     "base_uri": "https://localhost:8080/"
    },
    "executionInfo": {
     "elapsed": 794,
     "status": "ok",
     "timestamp": 1604904822592,
     "user": {
      "displayName": "Denny Setia Dwiputra",
      "photoUrl": "https://lh3.googleusercontent.com/a-/AOh14GheQSIjmpXmrulrtnhemFKjsaAPE4APTVVVqNuX0w=s64",
      "userId": "16685659883209092994"
     },
     "user_tz": -420
    },
    "id": "NBUHKeXAwNFg",
    "outputId": "2cbc7f5c-5ec6-4e1d-a82f-6d33ae3db0f3"
   },
   "outputs": [
    {
     "name": "stdout",
     "output_type": "stream",
     "text": [
      "              precision    recall  f1-score   support\n",
      "\n",
      "           0       0.41      0.15      0.22        47\n",
      "           1       0.52      0.81      0.63        53\n",
      "\n",
      "    accuracy                           0.50       100\n",
      "   macro avg       0.46      0.48      0.43       100\n",
      "weighted avg       0.47      0.50      0.44       100\n",
      "\n"
     ]
    }
   ],
   "source": [
    "print(classification_report(y_test,y_rf))"
   ]
  },
  {
   "cell_type": "markdown",
   "metadata": {
    "id": "UNzyOwHqyYaS"
   },
   "source": [
    "### XGB"
   ]
  },
  {
   "cell_type": "markdown",
   "metadata": {
    "id": "EzUvBjXEI5kn"
   },
   "source": [
    "This algorithms is not good for our model, because the result is **overfitting**\n",
    "\n",
    "Test Score (0.51) is worse than Train Score (1)"
   ]
  },
  {
   "cell_type": "code",
   "execution_count": null,
   "metadata": {
    "id": "30bdamKSwPXB"
   },
   "outputs": [],
   "source": [
    "from xgboost import XGBClassifier"
   ]
  },
  {
   "cell_type": "code",
   "execution_count": null,
   "metadata": {
    "colab": {
     "base_uri": "https://localhost:8080/"
    },
    "executionInfo": {
     "elapsed": 1175,
     "status": "ok",
     "timestamp": 1604904958034,
     "user": {
      "displayName": "Denny Setia Dwiputra",
      "photoUrl": "https://lh3.googleusercontent.com/a-/AOh14GheQSIjmpXmrulrtnhemFKjsaAPE4APTVVVqNuX0w=s64",
      "userId": "16685659883209092994"
     },
     "user_tz": -420
    },
    "id": "h1CzmV97ygoV",
    "outputId": "ed6d2c14-b3ff-4454-ebd9-33566aad53f2"
   },
   "outputs": [
    {
     "data": {
      "text/plain": [
       "XGBClassifier(base_score=0.5, booster='gbtree', colsample_bylevel=1,\n",
       "              colsample_bynode=1, colsample_bytree=1, gamma=0,\n",
       "              learning_rate=0.1, max_delta_step=0, max_depth=15,\n",
       "              min_child_weight=1, missing=None, n_estimators=100, n_jobs=1,\n",
       "              nthread=None, objective='binary:logistic', random_state=0,\n",
       "              reg_alpha=0, reg_lambda=1, scale_pos_weight=1, seed=None,\n",
       "              silent=None, subsample=1, verbosity=1)"
      ]
     },
     "execution_count": 347,
     "metadata": {
      "tags": []
     },
     "output_type": "execute_result"
    }
   ],
   "source": [
    "xgb = XGBClassifier(max_depth=15) \n",
    "xgb.fit(X_train,y_train)"
   ]
  },
  {
   "cell_type": "code",
   "execution_count": null,
   "metadata": {
    "id": "5NZpFCxayiCP"
   },
   "outputs": [],
   "source": [
    "y_xgb = xgb.predict(X_test)"
   ]
  },
  {
   "cell_type": "code",
   "execution_count": null,
   "metadata": {
    "colab": {
     "base_uri": "https://localhost:8080/"
    },
    "executionInfo": {
     "elapsed": 868,
     "status": "ok",
     "timestamp": 1604904989930,
     "user": {
      "displayName": "Denny Setia Dwiputra",
      "photoUrl": "https://lh3.googleusercontent.com/a-/AOh14GheQSIjmpXmrulrtnhemFKjsaAPE4APTVVVqNuX0w=s64",
      "userId": "16685659883209092994"
     },
     "user_tz": -420
    },
    "id": "2ejKwp2hynDe",
    "outputId": "dfa01454-bd57-4307-ba22-e92ea174673b"
   },
   "outputs": [
    {
     "name": "stdout",
     "output_type": "stream",
     "text": [
      "Train Accuracy: 1.0\n",
      "Test Accuracy: 0.51\n"
     ]
    }
   ],
   "source": [
    "print(\"Train Accuracy:\",xgb.score(X_train, y_train).round(2))\n",
    "print(\"Test Accuracy:\",xgb.score(X_test, y_test).round(2))"
   ]
  },
  {
   "cell_type": "code",
   "execution_count": null,
   "metadata": {
    "colab": {
     "base_uri": "https://localhost:8080/"
    },
    "executionInfo": {
     "elapsed": 943,
     "status": "ok",
     "timestamp": 1604904965488,
     "user": {
      "displayName": "Denny Setia Dwiputra",
      "photoUrl": "https://lh3.googleusercontent.com/a-/AOh14GheQSIjmpXmrulrtnhemFKjsaAPE4APTVVVqNuX0w=s64",
      "userId": "16685659883209092994"
     },
     "user_tz": -420
    },
    "id": "omDbGDHVyj29",
    "outputId": "8c234586-2b2a-4d2b-b56a-deb170305729"
   },
   "outputs": [
    {
     "name": "stdout",
     "output_type": "stream",
     "text": [
      "              precision    recall  f1-score   support\n",
      "\n",
      "           0       0.48      0.55      0.51        47\n",
      "           1       0.54      0.47      0.51        53\n",
      "\n",
      "    accuracy                           0.51       100\n",
      "   macro avg       0.51      0.51      0.51       100\n",
      "weighted avg       0.51      0.51      0.51       100\n",
      "\n"
     ]
    }
   ],
   "source": [
    "print(classification_report(y_test,y_xgb))"
   ]
  },
  {
   "cell_type": "markdown",
   "metadata": {
    "id": "7PX-_cQQy4er"
   },
   "source": [
    "### Hyperparameter tunning"
   ]
  },
  {
   "cell_type": "code",
   "execution_count": null,
   "metadata": {
    "id": "9CR6L6bfylFp"
   },
   "outputs": [],
   "source": [
    "from sklearn.model_selection import GridSearchCV"
   ]
  },
  {
   "cell_type": "markdown",
   "metadata": {
    "id": "WzvHzyDKzB6R"
   },
   "source": [
    "#### SVC"
   ]
  },
  {
   "cell_type": "code",
   "execution_count": null,
   "metadata": {
    "id": "GM3tHjJRy_AU"
   },
   "outputs": [],
   "source": [
    "modelSVC = SVC()\n",
    "param_svc = {\"max_iter\" : [800,1600,2400,3200],\n",
    "             \"kernel\":['linear','sigmoid','rbf','polynomial'],\n",
    "             \"random_state\":[42]}"
   ]
  },
  {
   "cell_type": "code",
   "execution_count": null,
   "metadata": {
    "id": "K4h7pPKMzJ2x"
   },
   "outputs": [],
   "source": [
    "hyper_svc = GridSearchCV(estimator=modelSVC, param_grid=param_svc, n_jobs = -1, cv = 5, verbose=1 )"
   ]
  },
  {
   "cell_type": "code",
   "execution_count": null,
   "metadata": {
    "colab": {
     "base_uri": "https://localhost:8080/"
    },
    "executionInfo": {
     "elapsed": 2713,
     "status": "ok",
     "timestamp": 1604905127337,
     "user": {
      "displayName": "Denny Setia Dwiputra",
      "photoUrl": "https://lh3.googleusercontent.com/a-/AOh14GheQSIjmpXmrulrtnhemFKjsaAPE4APTVVVqNuX0w=s64",
      "userId": "16685659883209092994"
     },
     "user_tz": -420
    },
    "id": "7DZGWsyGzK_T",
    "outputId": "887be4b4-3c25-4461-9ea7-498c97b8157c"
   },
   "outputs": [
    {
     "name": "stdout",
     "output_type": "stream",
     "text": [
      "Fitting 5 folds for each of 16 candidates, totalling 80 fits\n"
     ]
    },
    {
     "name": "stderr",
     "output_type": "stream",
     "text": [
      "[Parallel(n_jobs=-1)]: Using backend LokyBackend with 2 concurrent workers.\n",
      "[Parallel(n_jobs=-1)]: Done  80 out of  80 | elapsed:    1.8s finished\n"
     ]
    },
    {
     "data": {
      "text/plain": [
       "GridSearchCV(cv=5, error_score=nan,\n",
       "             estimator=SVC(C=1.0, break_ties=False, cache_size=200,\n",
       "                           class_weight=None, coef0=0.0,\n",
       "                           decision_function_shape='ovr', degree=3,\n",
       "                           gamma='scale', kernel='rbf', max_iter=-1,\n",
       "                           probability=False, random_state=None, shrinking=True,\n",
       "                           tol=0.001, verbose=False),\n",
       "             iid='deprecated', n_jobs=-1,\n",
       "             param_grid={'kernel': ['linear', 'sigmoid', 'rbf', 'polynomial'],\n",
       "                         'max_iter': [800, 1600, 2400, 3200],\n",
       "                         'random_state': [42]},\n",
       "             pre_dispatch='2*n_jobs', refit=True, return_train_score=False,\n",
       "             scoring=None, verbose=1)"
      ]
     },
     "execution_count": 354,
     "metadata": {
      "tags": []
     },
     "output_type": "execute_result"
    }
   ],
   "source": [
    "hyper_svc.fit(X_train, y_train)"
   ]
  },
  {
   "cell_type": "code",
   "execution_count": null,
   "metadata": {
    "colab": {
     "base_uri": "https://localhost:8080/"
    },
    "executionInfo": {
     "elapsed": 989,
     "status": "ok",
     "timestamp": 1604905130812,
     "user": {
      "displayName": "Denny Setia Dwiputra",
      "photoUrl": "https://lh3.googleusercontent.com/a-/AOh14GheQSIjmpXmrulrtnhemFKjsaAPE4APTVVVqNuX0w=s64",
      "userId": "16685659883209092994"
     },
     "user_tz": -420
    },
    "id": "OLlBXcKhzMGZ",
    "outputId": "c578cd4a-b69f-4e03-b275-455d64985123"
   },
   "outputs": [
    {
     "data": {
      "text/plain": [
       "{'kernel': 'linear', 'max_iter': 800, 'random_state': 42}"
      ]
     },
     "execution_count": 355,
     "metadata": {
      "tags": []
     },
     "output_type": "execute_result"
    }
   ],
   "source": [
    "hyper_svc.best_params_"
   ]
  },
  {
   "cell_type": "code",
   "execution_count": null,
   "metadata": {
    "colab": {
     "base_uri": "https://localhost:8080/"
    },
    "executionInfo": {
     "elapsed": 819,
     "status": "ok",
     "timestamp": 1604905136349,
     "user": {
      "displayName": "Denny Setia Dwiputra",
      "photoUrl": "https://lh3.googleusercontent.com/a-/AOh14GheQSIjmpXmrulrtnhemFKjsaAPE4APTVVVqNuX0w=s64",
      "userId": "16685659883209092994"
     },
     "user_tz": -420
    },
    "id": "HLw8tNxezNcN",
    "outputId": "ef8647c7-66ff-4915-bc7b-54e548aeac8c"
   },
   "outputs": [
    {
     "data": {
      "text/plain": [
       "0.5225000000000001"
      ]
     },
     "execution_count": 356,
     "metadata": {
      "tags": []
     },
     "output_type": "execute_result"
    }
   ],
   "source": [
    "hyper_svc.best_score_"
   ]
  },
  {
   "cell_type": "code",
   "execution_count": null,
   "metadata": {
    "colab": {
     "base_uri": "https://localhost:8080/"
    },
    "executionInfo": {
     "elapsed": 871,
     "status": "ok",
     "timestamp": 1604905141956,
     "user": {
      "displayName": "Denny Setia Dwiputra",
      "photoUrl": "https://lh3.googleusercontent.com/a-/AOh14GheQSIjmpXmrulrtnhemFKjsaAPE4APTVVVqNuX0w=s64",
      "userId": "16685659883209092994"
     },
     "user_tz": -420
    },
    "id": "gxiroNeGzO1N",
    "outputId": "fef97e6a-845d-4344-9099-6b6b96eefff8"
   },
   "outputs": [
    {
     "data": {
      "text/plain": [
       "SVC(C=1.0, break_ties=False, cache_size=200, class_weight=None, coef0=0.0,\n",
       "    decision_function_shape='ovr', degree=3, gamma='scale', kernel='linear',\n",
       "    max_iter=800, probability=False, random_state=42, shrinking=True, tol=0.001,\n",
       "    verbose=False)"
      ]
     },
     "execution_count": 357,
     "metadata": {
      "tags": []
     },
     "output_type": "execute_result"
    }
   ],
   "source": [
    "hyper_svc.best_estimator_"
   ]
  },
  {
   "cell_type": "code",
   "execution_count": null,
   "metadata": {
    "id": "wmlvD_I6zQMH"
   },
   "outputs": [],
   "source": [
    "svc_Tuned = hyper_svc.best_estimator_"
   ]
  },
  {
   "cell_type": "code",
   "execution_count": null,
   "metadata": {
    "id": "Q8BcY1MHzRsS"
   },
   "outputs": [],
   "source": [
    "y_tunedSVC = svc_Tuned.predict(X_test)"
   ]
  },
  {
   "cell_type": "code",
   "execution_count": null,
   "metadata": {
    "colab": {
     "base_uri": "https://localhost:8080/"
    },
    "executionInfo": {
     "elapsed": 2115,
     "status": "ok",
     "timestamp": 1604905161075,
     "user": {
      "displayName": "Denny Setia Dwiputra",
      "photoUrl": "https://lh3.googleusercontent.com/a-/AOh14GheQSIjmpXmrulrtnhemFKjsaAPE4APTVVVqNuX0w=s64",
      "userId": "16685659883209092994"
     },
     "user_tz": -420
    },
    "id": "uMfr23ELzTFd",
    "outputId": "28f5c3d1-d7e4-4e42-d58e-130c68567f91"
   },
   "outputs": [
    {
     "name": "stdout",
     "output_type": "stream",
     "text": [
      "Train Accuracy: 0.48\n",
      "Test Accuracy: 0.54\n"
     ]
    }
   ],
   "source": [
    "print(\"Train Accuracy:\",hyper_svc.score(X_train, y_train).round(2))\n",
    "print(\"Test Accuracy:\",hyper_svc.score(X_test, y_test).round(2))"
   ]
  },
  {
   "cell_type": "code",
   "execution_count": null,
   "metadata": {
    "colab": {
     "base_uri": "https://localhost:8080/"
    },
    "executionInfo": {
     "elapsed": 2536,
     "status": "ok",
     "timestamp": 1604905165616,
     "user": {
      "displayName": "Denny Setia Dwiputra",
      "photoUrl": "https://lh3.googleusercontent.com/a-/AOh14GheQSIjmpXmrulrtnhemFKjsaAPE4APTVVVqNuX0w=s64",
      "userId": "16685659883209092994"
     },
     "user_tz": -420
    },
    "id": "2VcYzsQvzUUC",
    "outputId": "c8a8d254-6547-49b7-9a7f-279de5819817"
   },
   "outputs": [
    {
     "name": "stdout",
     "output_type": "stream",
     "text": [
      "              precision    recall  f1-score   support\n",
      "\n",
      "           0       0.51      0.53      0.52        47\n",
      "           1       0.57      0.55      0.56        53\n",
      "\n",
      "    accuracy                           0.54       100\n",
      "   macro avg       0.54      0.54      0.54       100\n",
      "weighted avg       0.54      0.54      0.54       100\n",
      "\n"
     ]
    }
   ],
   "source": [
    "print(classification_report(y_test,y_tunedSVC))"
   ]
  },
  {
   "cell_type": "markdown",
   "metadata": {
    "id": "FbMpweWAzwrM"
   },
   "source": [
    "#### KNN Classifier"
   ]
  },
  {
   "cell_type": "code",
   "execution_count": null,
   "metadata": {
    "id": "3Icywez40Erv"
   },
   "outputs": [],
   "source": [
    "from sklearn.neighbors import KNeighborsClassifier"
   ]
  },
  {
   "cell_type": "code",
   "execution_count": null,
   "metadata": {
    "id": "OISJeIFFz1_f"
   },
   "outputs": [],
   "source": [
    "modelKNN = KNeighborsClassifier()\n",
    "param_KNN = {\"n_neighbors\" : [5, 10, 15, 20,25,30,35,40],\n",
    "            \"weights\" : [\"uniform\", \"distance\"],\n",
    "            \"p\" : [1,2]}"
   ]
  },
  {
   "cell_type": "code",
   "execution_count": null,
   "metadata": {
    "id": "3UD3ck4Bz5eQ"
   },
   "outputs": [],
   "source": [
    "hyper_KNN = GridSearchCV(estimator=modelKNN, param_grid=param_KNN, n_jobs = -1, cv = 5, verbose=1 )"
   ]
  },
  {
   "cell_type": "code",
   "execution_count": null,
   "metadata": {
    "colab": {
     "base_uri": "https://localhost:8080/"
    },
    "executionInfo": {
     "elapsed": 1556,
     "status": "ok",
     "timestamp": 1604905612669,
     "user": {
      "displayName": "Denny Setia Dwiputra",
      "photoUrl": "https://lh3.googleusercontent.com/a-/AOh14GheQSIjmpXmrulrtnhemFKjsaAPE4APTVVVqNuX0w=s64",
      "userId": "16685659883209092994"
     },
     "user_tz": -420
    },
    "id": "m43WfLa5z7Wp",
    "outputId": "56e3c47a-fcef-4f4e-cd5c-d3cb8579864a"
   },
   "outputs": [
    {
     "name": "stdout",
     "output_type": "stream",
     "text": [
      "Fitting 5 folds for each of 32 candidates, totalling 160 fits\n"
     ]
    },
    {
     "name": "stderr",
     "output_type": "stream",
     "text": [
      "[Parallel(n_jobs=-1)]: Using backend LokyBackend with 2 concurrent workers.\n",
      "[Parallel(n_jobs=-1)]: Done 150 tasks      | elapsed:    0.8s\n",
      "[Parallel(n_jobs=-1)]: Done 160 out of 160 | elapsed:    0.8s finished\n"
     ]
    },
    {
     "data": {
      "text/plain": [
       "GridSearchCV(cv=5, error_score=nan,\n",
       "             estimator=KNeighborsClassifier(algorithm='auto', leaf_size=30,\n",
       "                                            metric='minkowski',\n",
       "                                            metric_params=None, n_jobs=None,\n",
       "                                            n_neighbors=5, p=2,\n",
       "                                            weights='uniform'),\n",
       "             iid='deprecated', n_jobs=-1,\n",
       "             param_grid={'n_neighbors': [5, 10, 15, 20, 25, 30, 35, 40],\n",
       "                         'p': [1, 2], 'weights': ['uniform', 'distance']},\n",
       "             pre_dispatch='2*n_jobs', refit=True, return_train_score=False,\n",
       "             scoring=None, verbose=1)"
      ]
     },
     "execution_count": 378,
     "metadata": {
      "tags": []
     },
     "output_type": "execute_result"
    }
   ],
   "source": [
    "hyper_KNN.fit(X_train, y_train)"
   ]
  },
  {
   "cell_type": "code",
   "execution_count": null,
   "metadata": {
    "colab": {
     "base_uri": "https://localhost:8080/"
    },
    "executionInfo": {
     "elapsed": 807,
     "status": "ok",
     "timestamp": 1604905614281,
     "user": {
      "displayName": "Denny Setia Dwiputra",
      "photoUrl": "https://lh3.googleusercontent.com/a-/AOh14GheQSIjmpXmrulrtnhemFKjsaAPE4APTVVVqNuX0w=s64",
      "userId": "16685659883209092994"
     },
     "user_tz": -420
    },
    "id": "C4gcD_UD0QV1",
    "outputId": "86648236-1f85-44f3-f2bc-2704e16920ad"
   },
   "outputs": [
    {
     "data": {
      "text/plain": [
       "{'n_neighbors': 35, 'p': 2, 'weights': 'uniform'}"
      ]
     },
     "execution_count": 379,
     "metadata": {
      "tags": []
     },
     "output_type": "execute_result"
    }
   ],
   "source": [
    "hyper_KNN.best_params_"
   ]
  },
  {
   "cell_type": "code",
   "execution_count": null,
   "metadata": {
    "colab": {
     "base_uri": "https://localhost:8080/"
    },
    "executionInfo": {
     "elapsed": 902,
     "status": "ok",
     "timestamp": 1604905615362,
     "user": {
      "displayName": "Denny Setia Dwiputra",
      "photoUrl": "https://lh3.googleusercontent.com/a-/AOh14GheQSIjmpXmrulrtnhemFKjsaAPE4APTVVVqNuX0w=s64",
      "userId": "16685659883209092994"
     },
     "user_tz": -420
    },
    "id": "ENExhJGr0Rkz",
    "outputId": "5b933579-cbe9-4940-ab33-63fe81fa852e"
   },
   "outputs": [
    {
     "data": {
      "text/plain": [
       "0.5075000000000001"
      ]
     },
     "execution_count": 380,
     "metadata": {
      "tags": []
     },
     "output_type": "execute_result"
    }
   ],
   "source": [
    "hyper_KNN.best_score_"
   ]
  },
  {
   "cell_type": "code",
   "execution_count": null,
   "metadata": {
    "colab": {
     "base_uri": "https://localhost:8080/"
    },
    "executionInfo": {
     "elapsed": 669,
     "status": "ok",
     "timestamp": 1604905616455,
     "user": {
      "displayName": "Denny Setia Dwiputra",
      "photoUrl": "https://lh3.googleusercontent.com/a-/AOh14GheQSIjmpXmrulrtnhemFKjsaAPE4APTVVVqNuX0w=s64",
      "userId": "16685659883209092994"
     },
     "user_tz": -420
    },
    "id": "sdur_lqK0SrC",
    "outputId": "327d42b4-3316-4859-ed5a-3631652bee80"
   },
   "outputs": [
    {
     "data": {
      "text/plain": [
       "KNeighborsClassifier(algorithm='auto', leaf_size=30, metric='minkowski',\n",
       "                     metric_params=None, n_jobs=None, n_neighbors=35, p=2,\n",
       "                     weights='uniform')"
      ]
     },
     "execution_count": 381,
     "metadata": {
      "tags": []
     },
     "output_type": "execute_result"
    }
   ],
   "source": [
    "hyper_KNN.best_estimator_"
   ]
  },
  {
   "cell_type": "code",
   "execution_count": null,
   "metadata": {
    "id": "DT3gSOEs0T8c"
   },
   "outputs": [],
   "source": [
    "KNN_Tuned = hyper_KNN.best_estimator_"
   ]
  },
  {
   "cell_type": "code",
   "execution_count": null,
   "metadata": {
    "id": "d0iB97JB0VCb"
   },
   "outputs": [],
   "source": [
    "y_tunedKNN = KNN_Tuned.predict(X_test)"
   ]
  },
  {
   "cell_type": "code",
   "execution_count": null,
   "metadata": {
    "colab": {
     "base_uri": "https://localhost:8080/"
    },
    "executionInfo": {
     "elapsed": 622,
     "status": "ok",
     "timestamp": 1604905618634,
     "user": {
      "displayName": "Denny Setia Dwiputra",
      "photoUrl": "https://lh3.googleusercontent.com/a-/AOh14GheQSIjmpXmrulrtnhemFKjsaAPE4APTVVVqNuX0w=s64",
      "userId": "16685659883209092994"
     },
     "user_tz": -420
    },
    "id": "Zdboe1EX0ZtG",
    "outputId": "93d1c70e-06e2-44b8-b6b3-d515e8da3b88"
   },
   "outputs": [
    {
     "name": "stdout",
     "output_type": "stream",
     "text": [
      "Train Accuracy: 0.57\n",
      "Test Accuracy: 0.51\n"
     ]
    }
   ],
   "source": [
    "print(\"Train Accuracy:\",hyper_KNN.score(X_train, y_train).round(2))\n",
    "print(\"Test Accuracy:\",hyper_KNN.score(X_test, y_test).round(2))"
   ]
  },
  {
   "cell_type": "code",
   "execution_count": null,
   "metadata": {
    "colab": {
     "base_uri": "https://localhost:8080/"
    },
    "executionInfo": {
     "elapsed": 732,
     "status": "ok",
     "timestamp": 1604905620298,
     "user": {
      "displayName": "Denny Setia Dwiputra",
      "photoUrl": "https://lh3.googleusercontent.com/a-/AOh14GheQSIjmpXmrulrtnhemFKjsaAPE4APTVVVqNuX0w=s64",
      "userId": "16685659883209092994"
     },
     "user_tz": -420
    },
    "id": "lp38WQy20WDc",
    "outputId": "06e2b5a6-5bb2-4028-c84e-09ad5e6d2ffe"
   },
   "outputs": [
    {
     "name": "stdout",
     "output_type": "stream",
     "text": [
      "              precision    recall  f1-score   support\n",
      "\n",
      "           0       0.46      0.23      0.31        47\n",
      "           1       0.53      0.75      0.62        53\n",
      "\n",
      "    accuracy                           0.51       100\n",
      "   macro avg       0.49      0.49      0.47       100\n",
      "weighted avg       0.49      0.51      0.47       100\n",
      "\n"
     ]
    }
   ],
   "source": [
    "print(classification_report(y_test,y_tunedKNN))"
   ]
  },
  {
   "cell_type": "markdown",
   "metadata": {
    "id": "_bcPKwnR1bIP"
   },
   "source": [
    "#### Random Forest"
   ]
  },
  {
   "cell_type": "code",
   "execution_count": null,
   "metadata": {
    "id": "WGOoeqlU1bmP"
   },
   "outputs": [],
   "source": [
    "modelRF = RandomForestClassifier()\n",
    "param_RF = {\"n_estimators\" : [100,200,300,400,500,600,700],\n",
    "            \"max_depth\" : [10,20,30,40,50,60,70],\n",
    "            \"min_samples_split\" : [10,20,30,40,50,60,70],\n",
    "            \"min_samples_split\" :[10,20,30,40,50,60,70]}"
   ]
  },
  {
   "cell_type": "code",
   "execution_count": null,
   "metadata": {
    "id": "PJp0IoQ12qTz"
   },
   "outputs": [],
   "source": [
    "hyper_rf = GridSearchCV(estimator=modelRF, param_grid=param_RF, n_jobs = -1, cv = 5, verbose=1 )"
   ]
  },
  {
   "cell_type": "code",
   "execution_count": null,
   "metadata": {
    "colab": {
     "base_uri": "https://localhost:8080/"
    },
    "executionInfo": {
     "elapsed": 782722,
     "status": "ok",
     "timestamp": 1604906871440,
     "user": {
      "displayName": "Denny Setia Dwiputra",
      "photoUrl": "https://lh3.googleusercontent.com/a-/AOh14GheQSIjmpXmrulrtnhemFKjsaAPE4APTVVVqNuX0w=s64",
      "userId": "16685659883209092994"
     },
     "user_tz": -420
    },
    "id": "Be7tc2sQ21jc",
    "outputId": "c667bfa7-c279-4ca8-e476-d690179fc098"
   },
   "outputs": [
    {
     "name": "stdout",
     "output_type": "stream",
     "text": [
      "Fitting 5 folds for each of 343 candidates, totalling 1715 fits\n"
     ]
    },
    {
     "name": "stderr",
     "output_type": "stream",
     "text": [
      "[Parallel(n_jobs=-1)]: Using backend LokyBackend with 2 concurrent workers.\n",
      "[Parallel(n_jobs=-1)]: Done  46 tasks      | elapsed:   20.0s\n",
      "[Parallel(n_jobs=-1)]: Done 196 tasks      | elapsed:  1.5min\n",
      "[Parallel(n_jobs=-1)]: Done 446 tasks      | elapsed:  3.4min\n",
      "[Parallel(n_jobs=-1)]: Done 796 tasks      | elapsed:  6.0min\n",
      "[Parallel(n_jobs=-1)]: Done 1246 tasks      | elapsed:  9.4min\n",
      "[Parallel(n_jobs=-1)]: Done 1715 out of 1715 | elapsed: 13.0min finished\n"
     ]
    },
    {
     "data": {
      "text/plain": [
       "GridSearchCV(cv=5, error_score=nan,\n",
       "             estimator=RandomForestClassifier(bootstrap=True, ccp_alpha=0.0,\n",
       "                                              class_weight=None,\n",
       "                                              criterion='gini', max_depth=None,\n",
       "                                              max_features='auto',\n",
       "                                              max_leaf_nodes=None,\n",
       "                                              max_samples=None,\n",
       "                                              min_impurity_decrease=0.0,\n",
       "                                              min_impurity_split=None,\n",
       "                                              min_samples_leaf=1,\n",
       "                                              min_samples_split=2,\n",
       "                                              min_weight_fraction_leaf=0.0,\n",
       "                                              n_estimators=100, n_jobs=None,\n",
       "                                              oob_score=False,\n",
       "                                              random_state=None, verbose=0,\n",
       "                                              warm_start=False),\n",
       "             iid='deprecated', n_jobs=-1,\n",
       "             param_grid={'max_depth': [10, 20, 30, 40, 50, 60, 70],\n",
       "                         'min_samples_split': [10, 20, 30, 40, 50, 60, 70],\n",
       "                         'n_estimators': [100, 200, 300, 400, 500, 600, 700]},\n",
       "             pre_dispatch='2*n_jobs', refit=True, return_train_score=False,\n",
       "             scoring=None, verbose=1)"
      ]
     },
     "execution_count": 388,
     "metadata": {
      "tags": []
     },
     "output_type": "execute_result"
    }
   ],
   "source": [
    "hyper_rf.fit(X_train, y_train)"
   ]
  },
  {
   "cell_type": "code",
   "execution_count": null,
   "metadata": {
    "colab": {
     "base_uri": "https://localhost:8080/"
    },
    "executionInfo": {
     "elapsed": 1236,
     "status": "ok",
     "timestamp": 1604906875559,
     "user": {
      "displayName": "Denny Setia Dwiputra",
      "photoUrl": "https://lh3.googleusercontent.com/a-/AOh14GheQSIjmpXmrulrtnhemFKjsaAPE4APTVVVqNuX0w=s64",
      "userId": "16685659883209092994"
     },
     "user_tz": -420
    },
    "id": "Wyk91CnI5Pvg",
    "outputId": "454682cc-9913-4c3f-bb7f-c87d8d67d165"
   },
   "outputs": [
    {
     "data": {
      "text/plain": [
       "{'max_depth': 20, 'min_samples_split': 10, 'n_estimators': 400}"
      ]
     },
     "execution_count": 389,
     "metadata": {
      "tags": []
     },
     "output_type": "execute_result"
    }
   ],
   "source": [
    "hyper_rf.best_params_"
   ]
  },
  {
   "cell_type": "code",
   "execution_count": null,
   "metadata": {
    "colab": {
     "base_uri": "https://localhost:8080/"
    },
    "executionInfo": {
     "elapsed": 1230,
     "status": "ok",
     "timestamp": 1604906875560,
     "user": {
      "displayName": "Denny Setia Dwiputra",
      "photoUrl": "https://lh3.googleusercontent.com/a-/AOh14GheQSIjmpXmrulrtnhemFKjsaAPE4APTVVVqNuX0w=s64",
      "userId": "16685659883209092994"
     },
     "user_tz": -420
    },
    "id": "DVqCYeZy5TEr",
    "outputId": "06c46e46-6f07-4921-f089-8acca2149e06"
   },
   "outputs": [
    {
     "data": {
      "text/plain": [
       "0.515"
      ]
     },
     "execution_count": 390,
     "metadata": {
      "tags": []
     },
     "output_type": "execute_result"
    }
   ],
   "source": [
    "hyper_rf.best_score_"
   ]
  },
  {
   "cell_type": "code",
   "execution_count": null,
   "metadata": {
    "colab": {
     "base_uri": "https://localhost:8080/"
    },
    "executionInfo": {
     "elapsed": 1227,
     "status": "ok",
     "timestamp": 1604906875562,
     "user": {
      "displayName": "Denny Setia Dwiputra",
      "photoUrl": "https://lh3.googleusercontent.com/a-/AOh14GheQSIjmpXmrulrtnhemFKjsaAPE4APTVVVqNuX0w=s64",
      "userId": "16685659883209092994"
     },
     "user_tz": -420
    },
    "id": "KmdD1udK5UjW",
    "outputId": "51d48e67-42cf-4eba-bbdb-8f0e69225243"
   },
   "outputs": [
    {
     "data": {
      "text/plain": [
       "RandomForestClassifier(bootstrap=True, ccp_alpha=0.0, class_weight=None,\n",
       "                       criterion='gini', max_depth=20, max_features='auto',\n",
       "                       max_leaf_nodes=None, max_samples=None,\n",
       "                       min_impurity_decrease=0.0, min_impurity_split=None,\n",
       "                       min_samples_leaf=1, min_samples_split=10,\n",
       "                       min_weight_fraction_leaf=0.0, n_estimators=400,\n",
       "                       n_jobs=None, oob_score=False, random_state=None,\n",
       "                       verbose=0, warm_start=False)"
      ]
     },
     "execution_count": 391,
     "metadata": {
      "tags": []
     },
     "output_type": "execute_result"
    }
   ],
   "source": [
    "hyper_rf.best_estimator_"
   ]
  },
  {
   "cell_type": "code",
   "execution_count": null,
   "metadata": {
    "id": "CU1kMzG523hF"
   },
   "outputs": [],
   "source": [
    "RF_Tuned = hyper_rf.best_estimator_"
   ]
  },
  {
   "cell_type": "code",
   "execution_count": null,
   "metadata": {
    "id": "g97TmFV65gdQ"
   },
   "outputs": [],
   "source": [
    "y_tunedRF = RF_Tuned.predict(X_test)"
   ]
  },
  {
   "cell_type": "code",
   "execution_count": null,
   "metadata": {
    "colab": {
     "base_uri": "https://localhost:8080/"
    },
    "executionInfo": {
     "elapsed": 644,
     "status": "ok",
     "timestamp": 1604907681433,
     "user": {
      "displayName": "Denny Setia Dwiputra",
      "photoUrl": "https://lh3.googleusercontent.com/a-/AOh14GheQSIjmpXmrulrtnhemFKjsaAPE4APTVVVqNuX0w=s64",
      "userId": "16685659883209092994"
     },
     "user_tz": -420
    },
    "id": "oRA9R-ml5kPs",
    "outputId": "3dc9e5e2-d464-4281-a59d-ce4e2b39c4bd"
   },
   "outputs": [
    {
     "name": "stdout",
     "output_type": "stream",
     "text": [
      "              precision    recall  f1-score   support\n",
      "\n",
      "           0       0.48      0.45      0.46        47\n",
      "           1       0.54      0.57      0.55        53\n",
      "\n",
      "    accuracy                           0.51       100\n",
      "   macro avg       0.51      0.51      0.51       100\n",
      "weighted avg       0.51      0.51      0.51       100\n",
      "\n"
     ]
    }
   ],
   "source": [
    "print(classification_report(y_test,y_tunedRF))"
   ]
  },
  {
   "cell_type": "markdown",
   "metadata": {
    "id": "lro6o-KV6kVk"
   },
   "source": [
    "## FINAL DECISION"
   ]
  },
  {
   "cell_type": "markdown",
   "metadata": {
    "id": "nfNFP1I1_4or"
   },
   "source": [
    "I choose **SVC** as the best model machine Learning, because I would like to focus on **Precision**"
   ]
  },
  {
   "cell_type": "code",
   "execution_count": null,
   "metadata": {
    "colab": {
     "base_uri": "https://localhost:8080/"
    },
    "executionInfo": {
     "elapsed": 1094,
     "status": "ok",
     "timestamp": 1604908431753,
     "user": {
      "displayName": "Denny Setia Dwiputra",
      "photoUrl": "https://lh3.googleusercontent.com/a-/AOh14GheQSIjmpXmrulrtnhemFKjsaAPE4APTVVVqNuX0w=s64",
      "userId": "16685659883209092994"
     },
     "user_tz": -420
    },
    "id": "u3JiesmH_y8S",
    "outputId": "9f5b2cf0-b7ce-4d87-bef2-19c7cbbf82f5"
   },
   "outputs": [
    {
     "name": "stdout",
     "output_type": "stream",
     "text": [
      "Train Accuracy: 0.48\n",
      "Test Accuracy: 0.54\n"
     ]
    }
   ],
   "source": [
    "print(\"Train Accuracy:\",hyper_svc.score(X_train, y_train).round(2))\n",
    "print(\"Test Accuracy:\",hyper_svc.score(X_test, y_test).round(2))"
   ]
  },
  {
   "cell_type": "code",
   "execution_count": null,
   "metadata": {
    "colab": {
     "base_uri": "https://localhost:8080/"
    },
    "executionInfo": {
     "elapsed": 1086,
     "status": "ok",
     "timestamp": 1604908449209,
     "user": {
      "displayName": "Denny Setia Dwiputra",
      "photoUrl": "https://lh3.googleusercontent.com/a-/AOh14GheQSIjmpXmrulrtnhemFKjsaAPE4APTVVVqNuX0w=s64",
      "userId": "16685659883209092994"
     },
     "user_tz": -420
    },
    "id": "cItfWbkg_3MM",
    "outputId": "f75891b6-4ae3-4553-c0ef-77264017813c"
   },
   "outputs": [
    {
     "name": "stdout",
     "output_type": "stream",
     "text": [
      "              precision    recall  f1-score   support\n",
      "\n",
      "           0       0.51      0.53      0.52        47\n",
      "           1       0.57      0.55      0.56        53\n",
      "\n",
      "    accuracy                           0.54       100\n",
      "   macro avg       0.54      0.54      0.54       100\n",
      "weighted avg       0.54      0.54      0.54       100\n",
      "\n"
     ]
    }
   ],
   "source": [
    "print(classification_report(y_test,y_tunedSVC))"
   ]
  },
  {
   "cell_type": "code",
   "execution_count": null,
   "metadata": {
    "id": "RypIlDVx6127"
   },
   "outputs": [],
   "source": [
    "cm_svc = confusion_matrix(y_test,y_SVC, labels=[1,0])"
   ]
  },
  {
   "cell_type": "code",
   "execution_count": null,
   "metadata": {
    "colab": {
     "base_uri": "https://localhost:8080/",
     "height": 107
    },
    "executionInfo": {
     "elapsed": 588,
     "status": "ok",
     "timestamp": 1604907722603,
     "user": {
      "displayName": "Denny Setia Dwiputra",
      "photoUrl": "https://lh3.googleusercontent.com/a-/AOh14GheQSIjmpXmrulrtnhemFKjsaAPE4APTVVVqNuX0w=s64",
      "userId": "16685659883209092994"
     },
     "user_tz": -420
    },
    "id": "wLlv8FCl6sen",
    "outputId": "c26dfe15-ac93-4d37-bfbd-4f13f4c912cb"
   },
   "outputs": [
    {
     "data": {
      "text/html": [
       "<div>\n",
       "<style scoped>\n",
       "    .dataframe tbody tr th:only-of-type {\n",
       "        vertical-align: middle;\n",
       "    }\n",
       "\n",
       "    .dataframe tbody tr th {\n",
       "        vertical-align: top;\n",
       "    }\n",
       "\n",
       "    .dataframe thead th {\n",
       "        text-align: right;\n",
       "    }\n",
       "</style>\n",
       "<table border=\"1\" class=\"dataframe\">\n",
       "  <thead>\n",
       "    <tr style=\"text-align: right;\">\n",
       "      <th></th>\n",
       "      <th>Pred 1</th>\n",
       "      <th>Pred 0</th>\n",
       "    </tr>\n",
       "  </thead>\n",
       "  <tbody>\n",
       "    <tr>\n",
       "      <th>Akt 1</th>\n",
       "      <td>29</td>\n",
       "      <td>24</td>\n",
       "    </tr>\n",
       "    <tr>\n",
       "      <th>Akt 0</th>\n",
       "      <td>22</td>\n",
       "      <td>25</td>\n",
       "    </tr>\n",
       "  </tbody>\n",
       "</table>\n",
       "</div>"
      ],
      "text/plain": [
       "       Pred 1  Pred 0\n",
       "Akt 1      29      24\n",
       "Akt 0      22      25"
      ]
     },
     "execution_count": 411,
     "metadata": {
      "tags": []
     },
     "output_type": "execute_result"
    }
   ],
   "source": [
    "cm_svc_ = pd.DataFrame(data=cm_svc,columns = ['Pred 1','Pred 0'], index = ['Akt 1','Akt 0'])\n",
    "cm_svc_"
   ]
  },
  {
   "cell_type": "code",
   "execution_count": null,
   "metadata": {
    "colab": {
     "base_uri": "https://localhost:8080/",
     "height": 272
    },
    "executionInfo": {
     "elapsed": 898,
     "status": "ok",
     "timestamp": 1604907724654,
     "user": {
      "displayName": "Denny Setia Dwiputra",
      "photoUrl": "https://lh3.googleusercontent.com/a-/AOh14GheQSIjmpXmrulrtnhemFKjsaAPE4APTVVVqNuX0w=s64",
      "userId": "16685659883209092994"
     },
     "user_tz": -420
    },
    "id": "ik_eOTCO7KlE",
    "outputId": "40de62ad-508c-4758-c765-4ba275d31c52"
   },
   "outputs": [
    {
     "data": {
      "image/png": "[encoded data removed]",
      "text/plain": [
       "<Figure size 432x288 with 2 Axes>"
      ]
     },
     "metadata": {
      "tags": []
     },
     "output_type": "display_data"
    }
   ],
   "source": [
    "sns.heatmap(cm_svc_, annot=True)\n",
    "plt.show()"
   ]
  },
  {
   "cell_type": "markdown",
   "metadata": {
    "id": "WSnc-cA6-C8M"
   },
   "source": [
    "## Conclusion and Suggestion(RESULT)\n",
    "\n",
    "From this model we could predict who is the employee is **not satisfied** and **who is satisfied** based on his salary, departement,age,recruitment type, employee rating, job level, and award.\n",
    "\n",
    "we have to improve the feature (such as working time and duration of work ) because 3 alorithms couldn't give the more best result as we expected(more **Precision** Score), we see before that the coralation have a very low score (0-(+1) or 0 - (-1)) and **SVC** algorithms is the best score to improve our model.\n",
    "\n"
   ]
  }
 ],
 "metadata": {
  "colab": {
   "authorship_tag": "ABX9TyNEwaCueijtoLd6fJ25d2Tj",
   "collapsed_sections": [
    "tBZ0_EfwpxRA",
    "E_rNxDhkqFRu",
    "MeTZC0UsqLrc",
    "Uraeq3TRhCUy",
    "i1ivg4e5hTjP"
   ],
   "name": "employee_satisfaction.ipynb",
   "provenance": [],
   "toc_visible": true
  },
  "kernelspec": {
   "display_name": "Python 3 (ipykernel)",
   "language": "python",
   "name": "python3"
  },
  "language_info": {
   "codemirror_mode": {
    "name": "ipython",
    "version": 3
   },
   "file_extension": ".py",
   "mimetype": "text/x-python",
   "name": "python",
   "nbconvert_exporter": "python",
   "pygments_lexer": "ipython3",
   "version": "3.11.5"
  }
 },
 "nbformat": 4,
 "nbformat_minor": 1
}
